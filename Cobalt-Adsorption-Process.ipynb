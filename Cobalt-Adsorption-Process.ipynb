{
  "nbformat": 4,
  "nbformat_minor": 0,
  "metadata": {
    "colab": {
      "name": "Script_Walopez.ipynb",
      "provenance": [],
      "collapsed_sections": []
    },
    "kernelspec": {
      "name": "python3",
      "display_name": "Python 3"
    },
    "language_info": {
      "name": "python"
    }
  },
  "cells": [
    {
      "cell_type": "markdown",
      "metadata": {
        "id": "kzkYAk39X_-e"
      },
      "source": [
        "# Diseño de planta de adsorción de $Co^{2+}$ de soluciones acuosas\n",
        "## Cálculos de las isotermas"
      ]
    },
    {
      "cell_type": "code",
      "metadata": {
        "id": "XTpGWnRDX9qt"
      },
      "source": [
        "import numpy as np\n",
        "import numpy.polynomial.polynomial as poly\n",
        "import scipy as sp\n",
        "import pandas as pd\n",
        "import matplotlib.pyplot as plt\n"
      ],
      "execution_count": null,
      "outputs": []
    },
    {
      "cell_type": "code",
      "metadata": {
        "id": "CfC-5I3vZmcc"
      },
      "source": [
        "#loading data\n",
        "data = pd.read_excel('hoja_principal.xlsx', sheet_name='Isotermas', header=1)\n",
        "df = data.drop(0, axis=0)"
      ],
      "execution_count": null,
      "outputs": []
    },
    {
      "cell_type": "code",
      "metadata": {
        "colab": {
          "base_uri": "https://localhost:8080/",
          "height": 206
        },
        "id": "rxBPEeJgbns4",
        "outputId": "c1c653f1-ea96-4d22-889a-d867e6b21453"
      },
      "source": [
        "df.head()"
      ],
      "execution_count": null,
      "outputs": [
        {
          "output_type": "execute_result",
          "data": {
            "text/html": [
              "\n",
              "  <div id=\"df-7030d053-cac7-4535-8204-57ef63153899\">\n",
              "    <div class=\"colab-df-container\">\n",
              "      <div>\n",
              "<style scoped>\n",
              "    .dataframe tbody tr th:only-of-type {\n",
              "        vertical-align: middle;\n",
              "    }\n",
              "\n",
              "    .dataframe tbody tr th {\n",
              "        vertical-align: top;\n",
              "    }\n",
              "\n",
              "    .dataframe thead th {\n",
              "        text-align: right;\n",
              "    }\n",
              "</style>\n",
              "<table border=\"1\" class=\"dataframe\">\n",
              "  <thead>\n",
              "    <tr style=\"text-align: right;\">\n",
              "      <th></th>\n",
              "      <th>Ensayo</th>\n",
              "      <th>Ce (ppm)</th>\n",
              "      <th>qe (mg/g)</th>\n",
              "      <th>ln Ce</th>\n",
              "      <th>ln q</th>\n",
              "    </tr>\n",
              "  </thead>\n",
              "  <tbody>\n",
              "    <tr>\n",
              "      <th>1</th>\n",
              "      <td>2</td>\n",
              "      <td>22.42</td>\n",
              "      <td>77.6</td>\n",
              "      <td>3.109953</td>\n",
              "      <td>4.351567</td>\n",
              "    </tr>\n",
              "    <tr>\n",
              "      <th>2</th>\n",
              "      <td>3</td>\n",
              "      <td>46.89</td>\n",
              "      <td>103.2</td>\n",
              "      <td>3.847804</td>\n",
              "      <td>4.636669</td>\n",
              "    </tr>\n",
              "    <tr>\n",
              "      <th>3</th>\n",
              "      <td>4</td>\n",
              "      <td>78.47</td>\n",
              "      <td>123.5</td>\n",
              "      <td>4.362716</td>\n",
              "      <td>4.816241</td>\n",
              "    </tr>\n",
              "    <tr>\n",
              "      <th>4</th>\n",
              "      <td>5</td>\n",
              "      <td>112.11</td>\n",
              "      <td>137.9</td>\n",
              "      <td>4.719481</td>\n",
              "      <td>4.926529</td>\n",
              "    </tr>\n",
              "    <tr>\n",
              "      <th>5</th>\n",
              "      <td>6</td>\n",
              "      <td>148.62</td>\n",
              "      <td>153.5</td>\n",
              "      <td>5.001393</td>\n",
              "      <td>5.033701</td>\n",
              "    </tr>\n",
              "  </tbody>\n",
              "</table>\n",
              "</div>\n",
              "      <button class=\"colab-df-convert\" onclick=\"convertToInteractive('df-7030d053-cac7-4535-8204-57ef63153899')\"\n",
              "              title=\"Convert this dataframe to an interactive table.\"\n",
              "              style=\"display:none;\">\n",
              "        \n",
              "  <svg xmlns=\"http://www.w3.org/2000/svg\" height=\"24px\"viewBox=\"0 0 24 24\"\n",
              "       width=\"24px\">\n",
              "    <path d=\"M0 0h24v24H0V0z\" fill=\"none\"/>\n",
              "    <path d=\"M18.56 5.44l.94 2.06.94-2.06 2.06-.94-2.06-.94-.94-2.06-.94 2.06-2.06.94zm-11 1L8.5 8.5l.94-2.06 2.06-.94-2.06-.94L8.5 2.5l-.94 2.06-2.06.94zm10 10l.94 2.06.94-2.06 2.06-.94-2.06-.94-.94-2.06-.94 2.06-2.06.94z\"/><path d=\"M17.41 7.96l-1.37-1.37c-.4-.4-.92-.59-1.43-.59-.52 0-1.04.2-1.43.59L10.3 9.45l-7.72 7.72c-.78.78-.78 2.05 0 2.83L4 21.41c.39.39.9.59 1.41.59.51 0 1.02-.2 1.41-.59l7.78-7.78 2.81-2.81c.8-.78.8-2.07 0-2.86zM5.41 20L4 18.59l7.72-7.72 1.47 1.35L5.41 20z\"/>\n",
              "  </svg>\n",
              "      </button>\n",
              "      \n",
              "  <style>\n",
              "    .colab-df-container {\n",
              "      display:flex;\n",
              "      flex-wrap:wrap;\n",
              "      gap: 12px;\n",
              "    }\n",
              "\n",
              "    .colab-df-convert {\n",
              "      background-color: #E8F0FE;\n",
              "      border: none;\n",
              "      border-radius: 50%;\n",
              "      cursor: pointer;\n",
              "      display: none;\n",
              "      fill: #1967D2;\n",
              "      height: 32px;\n",
              "      padding: 0 0 0 0;\n",
              "      width: 32px;\n",
              "    }\n",
              "\n",
              "    .colab-df-convert:hover {\n",
              "      background-color: #E2EBFA;\n",
              "      box-shadow: 0px 1px 2px rgba(60, 64, 67, 0.3), 0px 1px 3px 1px rgba(60, 64, 67, 0.15);\n",
              "      fill: #174EA6;\n",
              "    }\n",
              "\n",
              "    [theme=dark] .colab-df-convert {\n",
              "      background-color: #3B4455;\n",
              "      fill: #D2E3FC;\n",
              "    }\n",
              "\n",
              "    [theme=dark] .colab-df-convert:hover {\n",
              "      background-color: #434B5C;\n",
              "      box-shadow: 0px 1px 3px 1px rgba(0, 0, 0, 0.15);\n",
              "      filter: drop-shadow(0px 1px 2px rgba(0, 0, 0, 0.3));\n",
              "      fill: #FFFFFF;\n",
              "    }\n",
              "  </style>\n",
              "\n",
              "      <script>\n",
              "        const buttonEl =\n",
              "          document.querySelector('#df-7030d053-cac7-4535-8204-57ef63153899 button.colab-df-convert');\n",
              "        buttonEl.style.display =\n",
              "          google.colab.kernel.accessAllowed ? 'block' : 'none';\n",
              "\n",
              "        async function convertToInteractive(key) {\n",
              "          const element = document.querySelector('#df-7030d053-cac7-4535-8204-57ef63153899');\n",
              "          const dataTable =\n",
              "            await google.colab.kernel.invokeFunction('convertToInteractive',\n",
              "                                                     [key], {});\n",
              "          if (!dataTable) return;\n",
              "\n",
              "          const docLinkHtml = 'Like what you see? Visit the ' +\n",
              "            '<a target=\"_blank\" href=https://colab.research.google.com/notebooks/data_table.ipynb>data table notebook</a>'\n",
              "            + ' to learn more about interactive tables.';\n",
              "          element.innerHTML = '';\n",
              "          dataTable['output_type'] = 'display_data';\n",
              "          await google.colab.output.renderOutput(dataTable, element);\n",
              "          const docLink = document.createElement('div');\n",
              "          docLink.innerHTML = docLinkHtml;\n",
              "          element.appendChild(docLink);\n",
              "        }\n",
              "      </script>\n",
              "    </div>\n",
              "  </div>\n",
              "  "
            ],
            "text/plain": [
              "   Ensayo  Ce (ppm)  qe (mg/g)     ln Ce      ln q\n",
              "1       2     22.42       77.6  3.109953  4.351567\n",
              "2       3     46.89      103.2  3.847804  4.636669\n",
              "3       4     78.47      123.5  4.362716  4.816241\n",
              "4       5    112.11      137.9  4.719481  4.926529\n",
              "5       6    148.62      153.5  5.001393  5.033701"
            ]
          },
          "metadata": {},
          "execution_count": 332
        }
      ]
    },
    {
      "cell_type": "markdown",
      "metadata": {
        "id": "vD3gIjfxpmFb"
      },
      "source": [
        "## Isoterma de Langmuir"
      ]
    },
    {
      "cell_type": "code",
      "metadata": {
        "id": "aI_2Zonebq-V"
      },
      "source": [
        "#Calculating entry parameters\n",
        "df['Ce/qe'] = df['Ce (ppm)'] / df['qe (mg/g)']\n"
      ],
      "execution_count": null,
      "outputs": []
    },
    {
      "cell_type": "code",
      "metadata": {
        "colab": {
          "base_uri": "https://localhost:8080/"
        },
        "id": "xR1fT8qgg3Xk",
        "outputId": "4d578676-766a-4d14-dab8-b11c9b60cb2c"
      },
      "source": [
        "#Making data fitting by linear method\n",
        "a1 = np.polyfit(df['Ce (ppm)'], df['Ce/qe'],1)\n",
        "p1 = np.poly1d(a1)\n",
        "print(p1)"
      ],
      "execution_count": null,
      "outputs": [
        {
          "output_type": "stream",
          "name": "stdout",
          "text": [
            " \n",
            "0.004071 x + 0.3081\n"
          ]
        }
      ]
    },
    {
      "cell_type": "code",
      "metadata": {
        "id": "7wNj542Wh17u"
      },
      "source": [
        "#insert regression data in data frame\n",
        "df.insert(6,'Reg_langmuir',p1(df['Ce (ppm)']))"
      ],
      "execution_count": null,
      "outputs": []
    },
    {
      "cell_type": "code",
      "metadata": {
        "colab": {
          "base_uri": "https://localhost:8080/",
          "height": 332
        },
        "id": "Ukk5R_sAiLrk",
        "outputId": "60663e85-6f6f-4ed4-cb78-321a4c0e0618"
      },
      "source": [
        "# Show data\n",
        "df"
      ],
      "execution_count": null,
      "outputs": [
        {
          "output_type": "execute_result",
          "data": {
            "text/html": [
              "\n",
              "  <div id=\"df-5e50719b-e004-4d62-a573-fd1eebcfe844\">\n",
              "    <div class=\"colab-df-container\">\n",
              "      <div>\n",
              "<style scoped>\n",
              "    .dataframe tbody tr th:only-of-type {\n",
              "        vertical-align: middle;\n",
              "    }\n",
              "\n",
              "    .dataframe tbody tr th {\n",
              "        vertical-align: top;\n",
              "    }\n",
              "\n",
              "    .dataframe thead th {\n",
              "        text-align: right;\n",
              "    }\n",
              "</style>\n",
              "<table border=\"1\" class=\"dataframe\">\n",
              "  <thead>\n",
              "    <tr style=\"text-align: right;\">\n",
              "      <th></th>\n",
              "      <th>Ensayo</th>\n",
              "      <th>Ce (ppm)</th>\n",
              "      <th>qe (mg/g)</th>\n",
              "      <th>ln Ce</th>\n",
              "      <th>ln q</th>\n",
              "      <th>Ce/qe</th>\n",
              "      <th>Reg_langmuir</th>\n",
              "    </tr>\n",
              "  </thead>\n",
              "  <tbody>\n",
              "    <tr>\n",
              "      <th>1</th>\n",
              "      <td>2</td>\n",
              "      <td>22.42</td>\n",
              "      <td>77.6</td>\n",
              "      <td>3.109953</td>\n",
              "      <td>4.351567</td>\n",
              "      <td>0.288918</td>\n",
              "      <td>0.399411</td>\n",
              "    </tr>\n",
              "    <tr>\n",
              "      <th>2</th>\n",
              "      <td>3</td>\n",
              "      <td>46.89</td>\n",
              "      <td>103.2</td>\n",
              "      <td>3.847804</td>\n",
              "      <td>4.636669</td>\n",
              "      <td>0.454360</td>\n",
              "      <td>0.499036</td>\n",
              "    </tr>\n",
              "    <tr>\n",
              "      <th>3</th>\n",
              "      <td>4</td>\n",
              "      <td>78.47</td>\n",
              "      <td>123.5</td>\n",
              "      <td>4.362716</td>\n",
              "      <td>4.816241</td>\n",
              "      <td>0.635385</td>\n",
              "      <td>0.627609</td>\n",
              "    </tr>\n",
              "    <tr>\n",
              "      <th>4</th>\n",
              "      <td>5</td>\n",
              "      <td>112.11</td>\n",
              "      <td>137.9</td>\n",
              "      <td>4.719481</td>\n",
              "      <td>4.926529</td>\n",
              "      <td>0.812980</td>\n",
              "      <td>0.764569</td>\n",
              "    </tr>\n",
              "    <tr>\n",
              "      <th>5</th>\n",
              "      <td>6</td>\n",
              "      <td>148.62</td>\n",
              "      <td>153.5</td>\n",
              "      <td>5.001393</td>\n",
              "      <td>5.033701</td>\n",
              "      <td>0.968208</td>\n",
              "      <td>0.913213</td>\n",
              "    </tr>\n",
              "    <tr>\n",
              "      <th>6</th>\n",
              "      <td>7</td>\n",
              "      <td>224.50</td>\n",
              "      <td>173.6</td>\n",
              "      <td>5.413876</td>\n",
              "      <td>5.156754</td>\n",
              "      <td>1.293203</td>\n",
              "      <td>1.222147</td>\n",
              "    </tr>\n",
              "    <tr>\n",
              "      <th>7</th>\n",
              "      <td>8</td>\n",
              "      <td>397.06</td>\n",
              "      <td>204.6</td>\n",
              "      <td>5.984087</td>\n",
              "      <td>5.321057</td>\n",
              "      <td>1.940665</td>\n",
              "      <td>1.924696</td>\n",
              "    </tr>\n",
              "    <tr>\n",
              "      <th>8</th>\n",
              "      <td>9</td>\n",
              "      <td>582.81</td>\n",
              "      <td>218.0</td>\n",
              "      <td>6.367861</td>\n",
              "      <td>5.384495</td>\n",
              "      <td>2.673440</td>\n",
              "      <td>2.680947</td>\n",
              "    </tr>\n",
              "    <tr>\n",
              "      <th>9</th>\n",
              "      <td>10</td>\n",
              "      <td>775.57</td>\n",
              "      <td>226.1</td>\n",
              "      <td>6.653598</td>\n",
              "      <td>5.420977</td>\n",
              "      <td>3.430208</td>\n",
              "      <td>3.465738</td>\n",
              "    </tr>\n",
              "  </tbody>\n",
              "</table>\n",
              "</div>\n",
              "      <button class=\"colab-df-convert\" onclick=\"convertToInteractive('df-5e50719b-e004-4d62-a573-fd1eebcfe844')\"\n",
              "              title=\"Convert this dataframe to an interactive table.\"\n",
              "              style=\"display:none;\">\n",
              "        \n",
              "  <svg xmlns=\"http://www.w3.org/2000/svg\" height=\"24px\"viewBox=\"0 0 24 24\"\n",
              "       width=\"24px\">\n",
              "    <path d=\"M0 0h24v24H0V0z\" fill=\"none\"/>\n",
              "    <path d=\"M18.56 5.44l.94 2.06.94-2.06 2.06-.94-2.06-.94-.94-2.06-.94 2.06-2.06.94zm-11 1L8.5 8.5l.94-2.06 2.06-.94-2.06-.94L8.5 2.5l-.94 2.06-2.06.94zm10 10l.94 2.06.94-2.06 2.06-.94-2.06-.94-.94-2.06-.94 2.06-2.06.94z\"/><path d=\"M17.41 7.96l-1.37-1.37c-.4-.4-.92-.59-1.43-.59-.52 0-1.04.2-1.43.59L10.3 9.45l-7.72 7.72c-.78.78-.78 2.05 0 2.83L4 21.41c.39.39.9.59 1.41.59.51 0 1.02-.2 1.41-.59l7.78-7.78 2.81-2.81c.8-.78.8-2.07 0-2.86zM5.41 20L4 18.59l7.72-7.72 1.47 1.35L5.41 20z\"/>\n",
              "  </svg>\n",
              "      </button>\n",
              "      \n",
              "  <style>\n",
              "    .colab-df-container {\n",
              "      display:flex;\n",
              "      flex-wrap:wrap;\n",
              "      gap: 12px;\n",
              "    }\n",
              "\n",
              "    .colab-df-convert {\n",
              "      background-color: #E8F0FE;\n",
              "      border: none;\n",
              "      border-radius: 50%;\n",
              "      cursor: pointer;\n",
              "      display: none;\n",
              "      fill: #1967D2;\n",
              "      height: 32px;\n",
              "      padding: 0 0 0 0;\n",
              "      width: 32px;\n",
              "    }\n",
              "\n",
              "    .colab-df-convert:hover {\n",
              "      background-color: #E2EBFA;\n",
              "      box-shadow: 0px 1px 2px rgba(60, 64, 67, 0.3), 0px 1px 3px 1px rgba(60, 64, 67, 0.15);\n",
              "      fill: #174EA6;\n",
              "    }\n",
              "\n",
              "    [theme=dark] .colab-df-convert {\n",
              "      background-color: #3B4455;\n",
              "      fill: #D2E3FC;\n",
              "    }\n",
              "\n",
              "    [theme=dark] .colab-df-convert:hover {\n",
              "      background-color: #434B5C;\n",
              "      box-shadow: 0px 1px 3px 1px rgba(0, 0, 0, 0.15);\n",
              "      filter: drop-shadow(0px 1px 2px rgba(0, 0, 0, 0.3));\n",
              "      fill: #FFFFFF;\n",
              "    }\n",
              "  </style>\n",
              "\n",
              "      <script>\n",
              "        const buttonEl =\n",
              "          document.querySelector('#df-5e50719b-e004-4d62-a573-fd1eebcfe844 button.colab-df-convert');\n",
              "        buttonEl.style.display =\n",
              "          google.colab.kernel.accessAllowed ? 'block' : 'none';\n",
              "\n",
              "        async function convertToInteractive(key) {\n",
              "          const element = document.querySelector('#df-5e50719b-e004-4d62-a573-fd1eebcfe844');\n",
              "          const dataTable =\n",
              "            await google.colab.kernel.invokeFunction('convertToInteractive',\n",
              "                                                     [key], {});\n",
              "          if (!dataTable) return;\n",
              "\n",
              "          const docLinkHtml = 'Like what you see? Visit the ' +\n",
              "            '<a target=\"_blank\" href=https://colab.research.google.com/notebooks/data_table.ipynb>data table notebook</a>'\n",
              "            + ' to learn more about interactive tables.';\n",
              "          element.innerHTML = '';\n",
              "          dataTable['output_type'] = 'display_data';\n",
              "          await google.colab.output.renderOutput(dataTable, element);\n",
              "          const docLink = document.createElement('div');\n",
              "          docLink.innerHTML = docLinkHtml;\n",
              "          element.appendChild(docLink);\n",
              "        }\n",
              "      </script>\n",
              "    </div>\n",
              "  </div>\n",
              "  "
            ],
            "text/plain": [
              "   Ensayo  Ce (ppm)  qe (mg/g)     ln Ce      ln q     Ce/qe  Reg_langmuir\n",
              "1       2     22.42       77.6  3.109953  4.351567  0.288918      0.399411\n",
              "2       3     46.89      103.2  3.847804  4.636669  0.454360      0.499036\n",
              "3       4     78.47      123.5  4.362716  4.816241  0.635385      0.627609\n",
              "4       5    112.11      137.9  4.719481  4.926529  0.812980      0.764569\n",
              "5       6    148.62      153.5  5.001393  5.033701  0.968208      0.913213\n",
              "6       7    224.50      173.6  5.413876  5.156754  1.293203      1.222147\n",
              "7       8    397.06      204.6  5.984087  5.321057  1.940665      1.924696\n",
              "8       9    582.81      218.0  6.367861  5.384495  2.673440      2.680947\n",
              "9      10    775.57      226.1  6.653598  5.420977  3.430208      3.465738"
            ]
          },
          "metadata": {},
          "execution_count": 336
        }
      ]
    },
    {
      "cell_type": "code",
      "metadata": {
        "colab": {
          "base_uri": "https://localhost:8080/",
          "height": 538
        },
        "id": "BvDH0dzXcJUT",
        "outputId": "0efd617e-aa13-45c3-c202-7abda4389e18"
      },
      "source": [
        "# Plot of Langmuir Insotherm\n",
        "ax = df.plot.scatter(x='Ce (ppm)', y='Ce/qe', figsize=(10,8), marker=\"X\", color='r')\n",
        "ax.grid(False)\n",
        "ax.set_xlabel('Ce (ppm)')\n",
        "ax.set_ylabel('Ce/qe')\n",
        "ax.tick_params(labelsize = 14)\n",
        "ax.set_title('Ajuste Isoterma Langmuir', fontdict={'fontsize': 18, 'fontweight': 'medium'})\n",
        "ax.plot(df['Ce (ppm)'],df['Reg_langmuir'], color='k', label=\"Tendencia\")\n",
        "ax.legend()"
      ],
      "execution_count": null,
      "outputs": [
        {
          "output_type": "execute_result",
          "data": {
            "text/plain": [
              "<matplotlib.legend.Legend at 0x7f1db9f66110>"
            ]
          },
          "metadata": {},
          "execution_count": 337
        },
        {
          "output_type": "display_data",
          "data": {
            "image/png": "[encoded data removed]",
            "text/plain": [
              "<Figure size 720x576 with 1 Axes>"
            ]
          },
          "metadata": {
            "needs_background": "light"
          }
        }
      ]
    },
    {
      "cell_type": "code",
      "metadata": {
        "colab": {
          "base_uri": "https://localhost:8080/"
        },
        "id": "ZpyETfwKujhk",
        "outputId": "348f5564-4272-435d-cd9c-06678e2c249f"
      },
      "source": [
        "#R2 Calculation\n",
        "pol = np.polyfit(df['Ce (ppm)'], df['Ce/qe'],1, full=True)\n",
        "coeff = pol[0]\n",
        "### Residual or Sum of Square Error (SSE)\n",
        "SSE = pol[1][0]\n",
        "\n",
        "### Determining the Sum of Square Total (SST)\n",
        "## the squared differences between the observed dependent variable and its mean\n",
        "diff = df['Ce/qe'] - df['Ce/qe'].mean()\n",
        "square_diff = diff ** 2\n",
        "SST = square_diff.sum()\n",
        "\n",
        "###  Now getting the coefficient of determination (R2)\n",
        "R2 = 1 - SSE/SST \n",
        "print(coeff,R2)"
      ],
      "execution_count": null,
      "outputs": [
        {
          "output_type": "stream",
          "name": "stdout",
          "text": [
            "[0.00407134 0.30813142] 0.9971738447494785\n"
          ]
        }
      ]
    },
    {
      "cell_type": "markdown",
      "metadata": {
        "id": "Mgo4UcoowqpZ"
      },
      "source": [
        "Ecuación de la Recta Isoterma Langmuir\n",
        "\n",
        " $y = 0.00407134 {x} + 0.30813142$\n",
        "\n",
        " $R^{2} = 0.9971$"
      ]
    },
    {
      "cell_type": "markdown",
      "metadata": {
        "id": "CGMy2mHSxuI_"
      },
      "source": [
        "Parámetros de Langmuir\n",
        "\n",
        "$B = \\frac{1}{b*qmax}$\n",
        "\n",
        "$m = \\frac{1}{qmax}$"
      ]
    },
    {
      "cell_type": "code",
      "metadata": {
        "colab": {
          "base_uri": "https://localhost:8080/"
        },
        "id": "Y8UNGHZJxLYT",
        "outputId": "87826706-0c52-4559-dd11-ee9cb58b543f"
      },
      "source": [
        "#Calculate parameters b and qmax\n",
        "\n",
        "qmax = 1 /coeff[0]\n",
        "b = 1/coeff[1]*qmax \n",
        "\n",
        "print(qmax, b)"
      ],
      "execution_count": null,
      "outputs": [
        {
          "output_type": "stream",
          "name": "stdout",
          "text": [
            "245.61956976027543 797.1260153421558\n"
          ]
        }
      ]
    },
    {
      "cell_type": "markdown",
      "metadata": {
        "id": "ab6Ci5okyxLX"
      },
      "source": [
        "\n",
        "$qmax = 245,61 \\frac{mg}{g}$\n",
        "\n",
        "$b = 797,12 \\frac{L}{mg}$"
      ]
    },
    {
      "cell_type": "markdown",
      "metadata": {
        "id": "IRCe5dNYprwQ"
      },
      "source": [
        "## Isoterma de Freundlich"
      ]
    },
    {
      "cell_type": "code",
      "metadata": {
        "colab": {
          "base_uri": "https://localhost:8080/"
        },
        "id": "ySZ6d4mHqvUg",
        "outputId": "6ce94307-3b82-47a2-b89b-9eedb35bb4ec"
      },
      "source": [
        "#Making data fitting by linear method\n",
        "a2 = np.polyfit(df['ln Ce'], df['ln q'],1)\n",
        "p2 = np.poly1d(a2)\n",
        "print(p2)"
      ],
      "execution_count": null,
      "outputs": [
        {
          "output_type": "stream",
          "name": "stdout",
          "text": [
            " \n",
            "0.3045 x + 3.467\n"
          ]
        }
      ]
    },
    {
      "cell_type": "code",
      "metadata": {
        "id": "buZrPFBfq9EK"
      },
      "source": [
        "df.insert(7,'Reg_Freundlich',p2(df['Ce (ppm)']))"
      ],
      "execution_count": null,
      "outputs": []
    },
    {
      "cell_type": "code",
      "metadata": {
        "colab": {
          "base_uri": "https://localhost:8080/",
          "height": 332
        },
        "id": "TKxpRwWQrLjm",
        "outputId": "6b3c5f23-7a01-45c0-84fa-b088ccae213f"
      },
      "source": [
        "df"
      ],
      "execution_count": null,
      "outputs": [
        {
          "output_type": "execute_result",
          "data": {
            "text/html": [
              "\n",
              "  <div id=\"df-38f53255-1173-4013-bbcc-54012d3b6946\">\n",
              "    <div class=\"colab-df-container\">\n",
              "      <div>\n",
              "<style scoped>\n",
              "    .dataframe tbody tr th:only-of-type {\n",
              "        vertical-align: middle;\n",
              "    }\n",
              "\n",
              "    .dataframe tbody tr th {\n",
              "        vertical-align: top;\n",
              "    }\n",
              "\n",
              "    .dataframe thead th {\n",
              "        text-align: right;\n",
              "    }\n",
              "</style>\n",
              "<table border=\"1\" class=\"dataframe\">\n",
              "  <thead>\n",
              "    <tr style=\"text-align: right;\">\n",
              "      <th></th>\n",
              "      <th>Ensayo</th>\n",
              "      <th>Ce (ppm)</th>\n",
              "      <th>qe (mg/g)</th>\n",
              "      <th>ln Ce</th>\n",
              "      <th>ln q</th>\n",
              "      <th>Ce/qe</th>\n",
              "      <th>Reg_langmuir</th>\n",
              "      <th>Reg_Freundlich</th>\n",
              "    </tr>\n",
              "  </thead>\n",
              "  <tbody>\n",
              "    <tr>\n",
              "      <th>1</th>\n",
              "      <td>2</td>\n",
              "      <td>22.42</td>\n",
              "      <td>77.6</td>\n",
              "      <td>3.109953</td>\n",
              "      <td>4.351567</td>\n",
              "      <td>0.288918</td>\n",
              "      <td>0.399411</td>\n",
              "      <td>10.294990</td>\n",
              "    </tr>\n",
              "    <tr>\n",
              "      <th>2</th>\n",
              "      <td>3</td>\n",
              "      <td>46.89</td>\n",
              "      <td>103.2</td>\n",
              "      <td>3.847804</td>\n",
              "      <td>4.636669</td>\n",
              "      <td>0.454360</td>\n",
              "      <td>0.499036</td>\n",
              "      <td>17.747311</td>\n",
              "    </tr>\n",
              "    <tr>\n",
              "      <th>3</th>\n",
              "      <td>4</td>\n",
              "      <td>78.47</td>\n",
              "      <td>123.5</td>\n",
              "      <td>4.362716</td>\n",
              "      <td>4.816241</td>\n",
              "      <td>0.635385</td>\n",
              "      <td>0.627609</td>\n",
              "      <td>27.364979</td>\n",
              "    </tr>\n",
              "    <tr>\n",
              "      <th>4</th>\n",
              "      <td>5</td>\n",
              "      <td>112.11</td>\n",
              "      <td>137.9</td>\n",
              "      <td>4.719481</td>\n",
              "      <td>4.926529</td>\n",
              "      <td>0.812980</td>\n",
              "      <td>0.764569</td>\n",
              "      <td>37.610018</td>\n",
              "    </tr>\n",
              "    <tr>\n",
              "      <th>5</th>\n",
              "      <td>6</td>\n",
              "      <td>148.62</td>\n",
              "      <td>153.5</td>\n",
              "      <td>5.001393</td>\n",
              "      <td>5.033701</td>\n",
              "      <td>0.968208</td>\n",
              "      <td>0.913213</td>\n",
              "      <td>48.729114</td>\n",
              "    </tr>\n",
              "    <tr>\n",
              "      <th>6</th>\n",
              "      <td>7</td>\n",
              "      <td>224.50</td>\n",
              "      <td>173.6</td>\n",
              "      <td>5.413876</td>\n",
              "      <td>5.156754</td>\n",
              "      <td>1.293203</td>\n",
              "      <td>1.222147</td>\n",
              "      <td>71.838317</td>\n",
              "    </tr>\n",
              "    <tr>\n",
              "      <th>7</th>\n",
              "      <td>8</td>\n",
              "      <td>397.06</td>\n",
              "      <td>204.6</td>\n",
              "      <td>5.984087</td>\n",
              "      <td>5.321057</td>\n",
              "      <td>1.940665</td>\n",
              "      <td>1.924696</td>\n",
              "      <td>124.391348</td>\n",
              "    </tr>\n",
              "    <tr>\n",
              "      <th>8</th>\n",
              "      <td>9</td>\n",
              "      <td>582.81</td>\n",
              "      <td>218.0</td>\n",
              "      <td>6.367861</td>\n",
              "      <td>5.384495</td>\n",
              "      <td>2.673440</td>\n",
              "      <td>2.680947</td>\n",
              "      <td>180.961385</td>\n",
              "    </tr>\n",
              "    <tr>\n",
              "      <th>9</th>\n",
              "      <td>10</td>\n",
              "      <td>775.57</td>\n",
              "      <td>226.1</td>\n",
              "      <td>6.653598</td>\n",
              "      <td>5.420977</td>\n",
              "      <td>3.430208</td>\n",
              "      <td>3.465738</td>\n",
              "      <td>239.666313</td>\n",
              "    </tr>\n",
              "  </tbody>\n",
              "</table>\n",
              "</div>\n",
              "      <button class=\"colab-df-convert\" onclick=\"convertToInteractive('df-38f53255-1173-4013-bbcc-54012d3b6946')\"\n",
              "              title=\"Convert this dataframe to an interactive table.\"\n",
              "              style=\"display:none;\">\n",
              "        \n",
              "  <svg xmlns=\"http://www.w3.org/2000/svg\" height=\"24px\"viewBox=\"0 0 24 24\"\n",
              "       width=\"24px\">\n",
              "    <path d=\"M0 0h24v24H0V0z\" fill=\"none\"/>\n",
              "    <path d=\"M18.56 5.44l.94 2.06.94-2.06 2.06-.94-2.06-.94-.94-2.06-.94 2.06-2.06.94zm-11 1L8.5 8.5l.94-2.06 2.06-.94-2.06-.94L8.5 2.5l-.94 2.06-2.06.94zm10 10l.94 2.06.94-2.06 2.06-.94-2.06-.94-.94-2.06-.94 2.06-2.06.94z\"/><path d=\"M17.41 7.96l-1.37-1.37c-.4-.4-.92-.59-1.43-.59-.52 0-1.04.2-1.43.59L10.3 9.45l-7.72 7.72c-.78.78-.78 2.05 0 2.83L4 21.41c.39.39.9.59 1.41.59.51 0 1.02-.2 1.41-.59l7.78-7.78 2.81-2.81c.8-.78.8-2.07 0-2.86zM5.41 20L4 18.59l7.72-7.72 1.47 1.35L5.41 20z\"/>\n",
              "  </svg>\n",
              "      </button>\n",
              "      \n",
              "  <style>\n",
              "    .colab-df-container {\n",
              "      display:flex;\n",
              "      flex-wrap:wrap;\n",
              "      gap: 12px;\n",
              "    }\n",
              "\n",
              "    .colab-df-convert {\n",
              "      background-color: #E8F0FE;\n",
              "      border: none;\n",
              "      border-radius: 50%;\n",
              "      cursor: pointer;\n",
              "      display: none;\n",
              "      fill: #1967D2;\n",
              "      height: 32px;\n",
              "      padding: 0 0 0 0;\n",
              "      width: 32px;\n",
              "    }\n",
              "\n",
              "    .colab-df-convert:hover {\n",
              "      background-color: #E2EBFA;\n",
              "      box-shadow: 0px 1px 2px rgba(60, 64, 67, 0.3), 0px 1px 3px 1px rgba(60, 64, 67, 0.15);\n",
              "      fill: #174EA6;\n",
              "    }\n",
              "\n",
              "    [theme=dark] .colab-df-convert {\n",
              "      background-color: #3B4455;\n",
              "      fill: #D2E3FC;\n",
              "    }\n",
              "\n",
              "    [theme=dark] .colab-df-convert:hover {\n",
              "      background-color: #434B5C;\n",
              "      box-shadow: 0px 1px 3px 1px rgba(0, 0, 0, 0.15);\n",
              "      filter: drop-shadow(0px 1px 2px rgba(0, 0, 0, 0.3));\n",
              "      fill: #FFFFFF;\n",
              "    }\n",
              "  </style>\n",
              "\n",
              "      <script>\n",
              "        const buttonEl =\n",
              "          document.querySelector('#df-38f53255-1173-4013-bbcc-54012d3b6946 button.colab-df-convert');\n",
              "        buttonEl.style.display =\n",
              "          google.colab.kernel.accessAllowed ? 'block' : 'none';\n",
              "\n",
              "        async function convertToInteractive(key) {\n",
              "          const element = document.querySelector('#df-38f53255-1173-4013-bbcc-54012d3b6946');\n",
              "          const dataTable =\n",
              "            await google.colab.kernel.invokeFunction('convertToInteractive',\n",
              "                                                     [key], {});\n",
              "          if (!dataTable) return;\n",
              "\n",
              "          const docLinkHtml = 'Like what you see? Visit the ' +\n",
              "            '<a target=\"_blank\" href=https://colab.research.google.com/notebooks/data_table.ipynb>data table notebook</a>'\n",
              "            + ' to learn more about interactive tables.';\n",
              "          element.innerHTML = '';\n",
              "          dataTable['output_type'] = 'display_data';\n",
              "          await google.colab.output.renderOutput(dataTable, element);\n",
              "          const docLink = document.createElement('div');\n",
              "          docLink.innerHTML = docLinkHtml;\n",
              "          element.appendChild(docLink);\n",
              "        }\n",
              "      </script>\n",
              "    </div>\n",
              "  </div>\n",
              "  "
            ],
            "text/plain": [
              "   Ensayo  Ce (ppm)  qe (mg/g)  ...     Ce/qe  Reg_langmuir  Reg_Freundlich\n",
              "1       2     22.42       77.6  ...  0.288918      0.399411       10.294990\n",
              "2       3     46.89      103.2  ...  0.454360      0.499036       17.747311\n",
              "3       4     78.47      123.5  ...  0.635385      0.627609       27.364979\n",
              "4       5    112.11      137.9  ...  0.812980      0.764569       37.610018\n",
              "5       6    148.62      153.5  ...  0.968208      0.913213       48.729114\n",
              "6       7    224.50      173.6  ...  1.293203      1.222147       71.838317\n",
              "7       8    397.06      204.6  ...  1.940665      1.924696      124.391348\n",
              "8       9    582.81      218.0  ...  2.673440      2.680947      180.961385\n",
              "9      10    775.57      226.1  ...  3.430208      3.465738      239.666313\n",
              "\n",
              "[9 rows x 8 columns]"
            ]
          },
          "metadata": {},
          "execution_count": 342
        }
      ]
    },
    {
      "cell_type": "code",
      "metadata": {
        "colab": {
          "base_uri": "https://localhost:8080/",
          "height": 538
        },
        "id": "gQYgr4kTp1jZ",
        "outputId": "20406e4b-8baa-4cef-8df8-96a45aee4cf6"
      },
      "source": [
        "#polynomial fit line as a 1st order\n",
        "fit = np.polyfit(df['ln Ce'], df['ln q'], 1)\n",
        "pf = np.poly1d(fit)\n",
        "\n",
        "# making main graph\n",
        "ax = df.plot.scatter(x='ln Ce', y='ln q', figsize=(10,8), marker=\"X\", color='b',\n",
        "                     label='Ln de datos experimentales')\n",
        "ax.grid(False)\n",
        "ax.set_xlabel('ln Ce')\n",
        "ax.set_ylabel('ln qe')\n",
        "ax.tick_params(labelsize = 14)\n",
        "ax.set_title('Ajuste Isoterma Freundlich', fontdict={'fontsize': 18, 'fontweight': 'medium'})\n",
        "\n",
        "#plot polynomial fit \n",
        "ax.plot(df['ln Ce'],pf(df['ln Ce']), color='k', label=\"Línea de tendencia\")\n",
        "ax.legend()"
      ],
      "execution_count": null,
      "outputs": [
        {
          "output_type": "execute_result",
          "data": {
            "text/plain": [
              "<matplotlib.legend.Legend at 0x7f1dc168bdd0>"
            ]
          },
          "metadata": {},
          "execution_count": 343
        },
        {
          "output_type": "display_data",
          "data": {
            "image/png": "[encoded data removed]",
            "text/plain": [
              "<Figure size 720x576 with 1 Axes>"
            ]
          },
          "metadata": {
            "needs_background": "light"
          }
        }
      ]
    },
    {
      "cell_type": "code",
      "metadata": {
        "colab": {
          "base_uri": "https://localhost:8080/"
        },
        "id": "no3l6tXQ29og",
        "outputId": "db6fc018-517d-4c14-edc1-ae7f7696934a"
      },
      "source": [
        "#R2 Calculation\n",
        "pol_fr = np.polyfit(df['ln Ce'], df['ln q'],1, full=True)\n",
        "coeff = pol_fr[0]\n",
        "### Residual or Sum of Square Error (SSE)\n",
        "SSE = pol_fr[1][0]\n",
        "\n",
        "### Determining the Sum of Square Total (SST)\n",
        "## the squared differences between the observed dependent variable and its mean\n",
        "diff = df['ln q'] - df['ln q'].mean()\n",
        "square_diff = diff ** 2\n",
        "SST = square_diff.sum()\n",
        "\n",
        "###  Now getting the coefficient of determination (R2)\n",
        "R2 = 1 - SSE/SST \n",
        "print(coeff,R2)"
      ],
      "execution_count": null,
      "outputs": [
        {
          "output_type": "stream",
          "name": "stdout",
          "text": [
            "[0.30454932 3.46699368] 0.9855320396894929\n"
          ]
        }
      ]
    },
    {
      "cell_type": "markdown",
      "metadata": {
        "id": "9wy7jIBI3ySI"
      },
      "source": [
        "Ecuación de la Recta Isoterma Freundlich\n",
        "\n",
        " $y = 0.30454932 {x} + 3.46699368$\n",
        "\n",
        " $R^{2} = 0.9855$"
      ]
    },
    {
      "cell_type": "markdown",
      "metadata": {
        "id": "vg48QoX14CZz"
      },
      "source": [
        "Parámetros de Freundlich\n",
        "\n",
        "$B = Ln(K)$\n",
        "\n",
        "$m = \\frac{1}{n}$\n",
        "\n"
      ]
    },
    {
      "cell_type": "code",
      "metadata": {
        "colab": {
          "base_uri": "https://localhost:8080/"
        },
        "id": "lLpFn24u4W5V",
        "outputId": "30ebcdd7-b93e-4dc2-d6e1-1e4ed62a0ade"
      },
      "source": [
        "#Calculate parameters K and n\n",
        "\n",
        "K = np.exp(coeff[1])\n",
        "n = 1/coeff[0]\n",
        "\n",
        "print(K, n)"
      ],
      "execution_count": null,
      "outputs": [
        {
          "output_type": "stream",
          "name": "stdout",
          "text": [
            "32.04027407430119 3.283540368357265\n"
          ]
        }
      ]
    },
    {
      "cell_type": "markdown",
      "metadata": {
        "id": "1-gWHPkn5B2z"
      },
      "source": [
        "$K = 32,04$\n",
        "\n",
        "$n = 3,2835$"
      ]
    },
    {
      "cell_type": "markdown",
      "metadata": {
        "id": "V-uDQA11pwG_"
      },
      "source": [
        "## Isoterma Temkin"
      ]
    },
    {
      "cell_type": "code",
      "metadata": {
        "colab": {
          "base_uri": "https://localhost:8080/"
        },
        "id": "RzlUQTnu7bSO",
        "outputId": "0ab8acf9-0fc6-4ef4-bc69-bc61a88d3e89"
      },
      "source": [
        "#Making data fitting by linear method\n",
        "a3 = np.polyfit(df['ln Ce'],df['qe (mg/g)'],1)\n",
        "p3 = np.poly1d(a3)\n",
        "print(p3)"
      ],
      "execution_count": null,
      "outputs": [
        {
          "output_type": "stream",
          "name": "stdout",
          "text": [
            " \n",
            "44.11 x - 65.26\n"
          ]
        }
      ]
    },
    {
      "cell_type": "code",
      "metadata": {
        "id": "7DQH37j_72_e"
      },
      "source": [
        "df.insert(8,'Reg_Temkin',p3(df['Ce (ppm)']))"
      ],
      "execution_count": null,
      "outputs": []
    },
    {
      "cell_type": "code",
      "metadata": {
        "colab": {
          "base_uri": "https://localhost:8080/",
          "height": 332
        },
        "id": "cThb_8Q979Ft",
        "outputId": "db0ba846-632b-4949-fb75-f0625609768d"
      },
      "source": [
        "df"
      ],
      "execution_count": null,
      "outputs": [
        {
          "output_type": "execute_result",
          "data": {
            "text/html": [
              "\n",
              "  <div id=\"df-ae4f1e2b-fcd2-4768-ab73-a31234af3846\">\n",
              "    <div class=\"colab-df-container\">\n",
              "      <div>\n",
              "<style scoped>\n",
              "    .dataframe tbody tr th:only-of-type {\n",
              "        vertical-align: middle;\n",
              "    }\n",
              "\n",
              "    .dataframe tbody tr th {\n",
              "        vertical-align: top;\n",
              "    }\n",
              "\n",
              "    .dataframe thead th {\n",
              "        text-align: right;\n",
              "    }\n",
              "</style>\n",
              "<table border=\"1\" class=\"dataframe\">\n",
              "  <thead>\n",
              "    <tr style=\"text-align: right;\">\n",
              "      <th></th>\n",
              "      <th>Ensayo</th>\n",
              "      <th>Ce (ppm)</th>\n",
              "      <th>qe (mg/g)</th>\n",
              "      <th>ln Ce</th>\n",
              "      <th>ln q</th>\n",
              "      <th>Ce/qe</th>\n",
              "      <th>Reg_langmuir</th>\n",
              "      <th>Reg_Freundlich</th>\n",
              "      <th>Reg_Temkin</th>\n",
              "    </tr>\n",
              "  </thead>\n",
              "  <tbody>\n",
              "    <tr>\n",
              "      <th>1</th>\n",
              "      <td>2</td>\n",
              "      <td>22.42</td>\n",
              "      <td>77.6</td>\n",
              "      <td>3.109953</td>\n",
              "      <td>4.351567</td>\n",
              "      <td>0.288918</td>\n",
              "      <td>0.399411</td>\n",
              "      <td>10.294990</td>\n",
              "      <td>923.732140</td>\n",
              "    </tr>\n",
              "    <tr>\n",
              "      <th>2</th>\n",
              "      <td>3</td>\n",
              "      <td>46.89</td>\n",
              "      <td>103.2</td>\n",
              "      <td>3.847804</td>\n",
              "      <td>4.636669</td>\n",
              "      <td>0.454360</td>\n",
              "      <td>0.499036</td>\n",
              "      <td>17.747311</td>\n",
              "      <td>2003.158319</td>\n",
              "    </tr>\n",
              "    <tr>\n",
              "      <th>3</th>\n",
              "      <td>4</td>\n",
              "      <td>78.47</td>\n",
              "      <td>123.5</td>\n",
              "      <td>4.362716</td>\n",
              "      <td>4.816241</td>\n",
              "      <td>0.635385</td>\n",
              "      <td>0.627609</td>\n",
              "      <td>27.364979</td>\n",
              "      <td>3396.222428</td>\n",
              "    </tr>\n",
              "    <tr>\n",
              "      <th>4</th>\n",
              "      <td>5</td>\n",
              "      <td>112.11</td>\n",
              "      <td>137.9</td>\n",
              "      <td>4.719481</td>\n",
              "      <td>4.926529</td>\n",
              "      <td>0.812980</td>\n",
              "      <td>0.764569</td>\n",
              "      <td>37.610018</td>\n",
              "      <td>4880.157723</td>\n",
              "    </tr>\n",
              "    <tr>\n",
              "      <th>5</th>\n",
              "      <td>6</td>\n",
              "      <td>148.62</td>\n",
              "      <td>153.5</td>\n",
              "      <td>5.001393</td>\n",
              "      <td>5.033701</td>\n",
              "      <td>0.968208</td>\n",
              "      <td>0.913213</td>\n",
              "      <td>48.729114</td>\n",
              "      <td>6490.695107</td>\n",
              "    </tr>\n",
              "    <tr>\n",
              "      <th>6</th>\n",
              "      <td>7</td>\n",
              "      <td>224.50</td>\n",
              "      <td>173.6</td>\n",
              "      <td>5.413876</td>\n",
              "      <td>5.156754</td>\n",
              "      <td>1.293203</td>\n",
              "      <td>1.222147</td>\n",
              "      <td>71.838317</td>\n",
              "      <td>9837.930844</td>\n",
              "    </tr>\n",
              "    <tr>\n",
              "      <th>7</th>\n",
              "      <td>8</td>\n",
              "      <td>397.06</td>\n",
              "      <td>204.6</td>\n",
              "      <td>5.984087</td>\n",
              "      <td>5.321057</td>\n",
              "      <td>1.940665</td>\n",
              "      <td>1.924696</td>\n",
              "      <td>124.391348</td>\n",
              "      <td>17449.936626</td>\n",
              "    </tr>\n",
              "    <tr>\n",
              "      <th>8</th>\n",
              "      <td>9</td>\n",
              "      <td>582.81</td>\n",
              "      <td>218.0</td>\n",
              "      <td>6.367861</td>\n",
              "      <td>5.384495</td>\n",
              "      <td>2.673440</td>\n",
              "      <td>2.680947</td>\n",
              "      <td>180.961385</td>\n",
              "      <td>25643.782674</td>\n",
              "    </tr>\n",
              "    <tr>\n",
              "      <th>9</th>\n",
              "      <td>10</td>\n",
              "      <td>775.57</td>\n",
              "      <td>226.1</td>\n",
              "      <td>6.653598</td>\n",
              "      <td>5.420977</td>\n",
              "      <td>3.430208</td>\n",
              "      <td>3.465738</td>\n",
              "      <td>239.666313</td>\n",
              "      <td>34146.855429</td>\n",
              "    </tr>\n",
              "  </tbody>\n",
              "</table>\n",
              "</div>\n",
              "      <button class=\"colab-df-convert\" onclick=\"convertToInteractive('df-ae4f1e2b-fcd2-4768-ab73-a31234af3846')\"\n",
              "              title=\"Convert this dataframe to an interactive table.\"\n",
              "              style=\"display:none;\">\n",
              "        \n",
              "  <svg xmlns=\"http://www.w3.org/2000/svg\" height=\"24px\"viewBox=\"0 0 24 24\"\n",
              "       width=\"24px\">\n",
              "    <path d=\"M0 0h24v24H0V0z\" fill=\"none\"/>\n",
              "    <path d=\"M18.56 5.44l.94 2.06.94-2.06 2.06-.94-2.06-.94-.94-2.06-.94 2.06-2.06.94zm-11 1L8.5 8.5l.94-2.06 2.06-.94-2.06-.94L8.5 2.5l-.94 2.06-2.06.94zm10 10l.94 2.06.94-2.06 2.06-.94-2.06-.94-.94-2.06-.94 2.06-2.06.94z\"/><path d=\"M17.41 7.96l-1.37-1.37c-.4-.4-.92-.59-1.43-.59-.52 0-1.04.2-1.43.59L10.3 9.45l-7.72 7.72c-.78.78-.78 2.05 0 2.83L4 21.41c.39.39.9.59 1.41.59.51 0 1.02-.2 1.41-.59l7.78-7.78 2.81-2.81c.8-.78.8-2.07 0-2.86zM5.41 20L4 18.59l7.72-7.72 1.47 1.35L5.41 20z\"/>\n",
              "  </svg>\n",
              "      </button>\n",
              "      \n",
              "  <style>\n",
              "    .colab-df-container {\n",
              "      display:flex;\n",
              "      flex-wrap:wrap;\n",
              "      gap: 12px;\n",
              "    }\n",
              "\n",
              "    .colab-df-convert {\n",
              "      background-color: #E8F0FE;\n",
              "      border: none;\n",
              "      border-radius: 50%;\n",
              "      cursor: pointer;\n",
              "      display: none;\n",
              "      fill: #1967D2;\n",
              "      height: 32px;\n",
              "      padding: 0 0 0 0;\n",
              "      width: 32px;\n",
              "    }\n",
              "\n",
              "    .colab-df-convert:hover {\n",
              "      background-color: #E2EBFA;\n",
              "      box-shadow: 0px 1px 2px rgba(60, 64, 67, 0.3), 0px 1px 3px 1px rgba(60, 64, 67, 0.15);\n",
              "      fill: #174EA6;\n",
              "    }\n",
              "\n",
              "    [theme=dark] .colab-df-convert {\n",
              "      background-color: #3B4455;\n",
              "      fill: #D2E3FC;\n",
              "    }\n",
              "\n",
              "    [theme=dark] .colab-df-convert:hover {\n",
              "      background-color: #434B5C;\n",
              "      box-shadow: 0px 1px 3px 1px rgba(0, 0, 0, 0.15);\n",
              "      filter: drop-shadow(0px 1px 2px rgba(0, 0, 0, 0.3));\n",
              "      fill: #FFFFFF;\n",
              "    }\n",
              "  </style>\n",
              "\n",
              "      <script>\n",
              "        const buttonEl =\n",
              "          document.querySelector('#df-ae4f1e2b-fcd2-4768-ab73-a31234af3846 button.colab-df-convert');\n",
              "        buttonEl.style.display =\n",
              "          google.colab.kernel.accessAllowed ? 'block' : 'none';\n",
              "\n",
              "        async function convertToInteractive(key) {\n",
              "          const element = document.querySelector('#df-ae4f1e2b-fcd2-4768-ab73-a31234af3846');\n",
              "          const dataTable =\n",
              "            await google.colab.kernel.invokeFunction('convertToInteractive',\n",
              "                                                     [key], {});\n",
              "          if (!dataTable) return;\n",
              "\n",
              "          const docLinkHtml = 'Like what you see? Visit the ' +\n",
              "            '<a target=\"_blank\" href=https://colab.research.google.com/notebooks/data_table.ipynb>data table notebook</a>'\n",
              "            + ' to learn more about interactive tables.';\n",
              "          element.innerHTML = '';\n",
              "          dataTable['output_type'] = 'display_data';\n",
              "          await google.colab.output.renderOutput(dataTable, element);\n",
              "          const docLink = document.createElement('div');\n",
              "          docLink.innerHTML = docLinkHtml;\n",
              "          element.appendChild(docLink);\n",
              "        }\n",
              "      </script>\n",
              "    </div>\n",
              "  </div>\n",
              "  "
            ],
            "text/plain": [
              "   Ensayo  Ce (ppm)  qe (mg/g)  ...  Reg_langmuir  Reg_Freundlich    Reg_Temkin\n",
              "1       2     22.42       77.6  ...      0.399411       10.294990    923.732140\n",
              "2       3     46.89      103.2  ...      0.499036       17.747311   2003.158319\n",
              "3       4     78.47      123.5  ...      0.627609       27.364979   3396.222428\n",
              "4       5    112.11      137.9  ...      0.764569       37.610018   4880.157723\n",
              "5       6    148.62      153.5  ...      0.913213       48.729114   6490.695107\n",
              "6       7    224.50      173.6  ...      1.222147       71.838317   9837.930844\n",
              "7       8    397.06      204.6  ...      1.924696      124.391348  17449.936626\n",
              "8       9    582.81      218.0  ...      2.680947      180.961385  25643.782674\n",
              "9      10    775.57      226.1  ...      3.465738      239.666313  34146.855429\n",
              "\n",
              "[9 rows x 9 columns]"
            ]
          },
          "metadata": {},
          "execution_count": 348
        }
      ]
    },
    {
      "cell_type": "code",
      "metadata": {
        "colab": {
          "base_uri": "https://localhost:8080/",
          "height": 538
        },
        "id": "gpBHyg1J7_IM",
        "outputId": "67244eb7-3db0-4050-edca-4edbee18a2fd"
      },
      "source": [
        "#polynomial fit line as a 1st order\n",
        "fit = np.polyfit(df['ln Ce'], df['qe (mg/g)'], 1)\n",
        "pf = np.poly1d(fit)\n",
        "\n",
        "ax = df.plot.scatter(x='ln Ce', y='qe (mg/g)', figsize=(10,8), marker=\"X\", color='g',\n",
        "                     label='ln Ce vs qe experimentales')\n",
        "ax.grid(False)\n",
        "ax.set_xlabel('ln Ce')\n",
        "ax.set_ylabel('qe (mg/g)')\n",
        "ax.tick_params(labelsize = 14)\n",
        "ax.set_title('Ajuste Isoterma Temkin', fontdict={'fontsize': 18, 'fontweight': 'medium'})\n",
        "ax.plot(df['ln Ce'],pf(df['ln Ce']), color='k', label='Tendencia')\n",
        "ax.legend()"
      ],
      "execution_count": null,
      "outputs": [
        {
          "output_type": "execute_result",
          "data": {
            "text/plain": [
              "<matplotlib.legend.Legend at 0x7f1dba016c50>"
            ]
          },
          "metadata": {},
          "execution_count": 349
        },
        {
          "output_type": "display_data",
          "data": {
            "image/png": "[encoded data removed]",
            "text/plain": [
              "<Figure size 720x576 with 1 Axes>"
            ]
          },
          "metadata": {
            "needs_background": "light"
          }
        }
      ]
    },
    {
      "cell_type": "code",
      "metadata": {
        "colab": {
          "base_uri": "https://localhost:8080/"
        },
        "id": "qOrNSEYP8VBC",
        "outputId": "9b1bc1d1-0c95-48af-8a65-fdda39fcd7f4"
      },
      "source": [
        "#R2 Calculation\n",
        "pol_tk = np.polyfit(df['ln Ce'], df['qe (mg/g)'],1, full=True)\n",
        "coeff = pol_tk[0]\n",
        "### Residual or Sum of Square Error (SSE)\n",
        "SSE = pol_tk[1][0]\n",
        "\n",
        "### Determining the Sum of Square Total (SST)\n",
        "## the squared differences between the observed dependent variable and its mean\n",
        "diff = df['qe (mg/g)'] - df['qe (mg/g)'].mean()\n",
        "square_diff = diff ** 2\n",
        "SST = square_diff.sum()\n",
        "\n",
        "###  Now getting the coefficient of determination (R2)\n",
        "R2 = 1 - SSE/SST \n",
        "print(coeff,R2)"
      ],
      "execution_count": null,
      "outputs": [
        {
          "output_type": "stream",
          "name": "stdout",
          "text": [
            "[ 44.11222637 -65.26397557] 0.9944321901192923\n"
          ]
        }
      ]
    },
    {
      "cell_type": "markdown",
      "metadata": {
        "id": "cHdM4TjG8sXH"
      },
      "source": [
        "Ecuación de la Recta Isoterma Freundlich\n",
        "\n",
        " $y = 44.11222637 {x} - 65.26397557$\n",
        "\n",
        " $R^{2} = 0.9944$"
      ]
    },
    {
      "cell_type": "markdown",
      "metadata": {
        "id": "HISH465I9B_G"
      },
      "source": [
        ""
      ]
    },
    {
      "cell_type": "markdown",
      "metadata": {
        "id": "1LUBSy9A9CO-"
      },
      "source": [
        "Parámetros de Temkin\n",
        "\n",
        "$B = \\frac{RT}{b}Ln(A)$\n",
        "\n",
        "$m = \\frac{RT}{b}$\n",
        "\n"
      ]
    },
    {
      "cell_type": "code",
      "metadata": {
        "colab": {
          "base_uri": "https://localhost:8080/"
        },
        "id": "5SFcJbuk9QbL",
        "outputId": "3253eaac-19f8-4f9e-da5d-426bfee88ea2"
      },
      "source": [
        "#Calculate parameters A and b\n",
        "R = 0.008314  \n",
        "T = 298.15\n",
        "A = np.exp(coeff[1]/coeff[0])\n",
        "b = (R*T / coeff[0])\n",
        "\n",
        "print(A, b)\n"
      ],
      "execution_count": null,
      "outputs": [
        {
          "output_type": "stream",
          "name": "stdout",
          "text": [
            "0.2277518627420418 0.05619347070108778\n"
          ]
        }
      ]
    },
    {
      "cell_type": "markdown",
      "metadata": {
        "id": "C8Rr3mvj_E5_"
      },
      "source": [
        "$A = 0,2277 \\frac{l}{g}$\n",
        "\n",
        "$b = 0,0561 \\frac{kJ}{mol}$\n",
        "\n",
        "$b \\leq 40 \\frac{kJ}{mol} \\Rightarrow Fisisorción$"
      ]
    },
    {
      "cell_type": "code",
      "metadata": {
        "id": "KYhhKk_GAYAx"
      },
      "source": [
        "df.to_excel('Isotermas_data.xlsx', sheet_name='Python')"
      ],
      "execution_count": null,
      "outputs": []
    },
    {
      "cell_type": "markdown",
      "metadata": {
        "id": "Sh21RA_LOsjI"
      },
      "source": [
        "# Determinación de la cinética de adsorción\n",
        "\n",
        "## Datos experimentales\n",
        "\n",
        "Obtenidos del estudio de Bernabé I, et al. (2019)\n",
        "Disponible en: https://www.hindawi.com/journals/amse/2019/3430176/"
      ]
    },
    {
      "cell_type": "code",
      "metadata": {
        "colab": {
          "base_uri": "https://localhost:8080/",
          "height": 300
        },
        "id": "Yaqv_FknPWaE",
        "outputId": "c3ae6e3d-33ed-4de9-bfc1-7486afb9011e"
      },
      "source": [
        "data_cinetica = pd.read_excel('hoja_principal.xlsx', sheet_name='Cinética', header=1)\n",
        "#df = data_cinetica.drop(0, axis=0)\n",
        "data_cinetica"
      ],
      "execution_count": null,
      "outputs": [
        {
          "output_type": "execute_result",
          "data": {
            "text/html": [
              "\n",
              "  <div id=\"df-e8a75099-0912-4afb-acf8-fbb8b8f66032\">\n",
              "    <div class=\"colab-df-container\">\n",
              "      <div>\n",
              "<style scoped>\n",
              "    .dataframe tbody tr th:only-of-type {\n",
              "        vertical-align: middle;\n",
              "    }\n",
              "\n",
              "    .dataframe tbody tr th {\n",
              "        vertical-align: top;\n",
              "    }\n",
              "\n",
              "    .dataframe thead th {\n",
              "        text-align: right;\n",
              "    }\n",
              "</style>\n",
              "<table border=\"1\" class=\"dataframe\">\n",
              "  <thead>\n",
              "    <tr style=\"text-align: right;\">\n",
              "      <th></th>\n",
              "      <th>t (min)</th>\n",
              "      <th>q(mg/g)</th>\n",
              "      <th>ln(q)</th>\n",
              "      <th>t/q</th>\n",
              "      <th>1er Orden</th>\n",
              "      <th>2ndo Orden</th>\n",
              "    </tr>\n",
              "  </thead>\n",
              "  <tbody>\n",
              "    <tr>\n",
              "      <th>0</th>\n",
              "      <td>1.0</td>\n",
              "      <td>1.350</td>\n",
              "      <td>0.300105</td>\n",
              "      <td>0.740741</td>\n",
              "      <td>0.355403</td>\n",
              "      <td>0.727780</td>\n",
              "    </tr>\n",
              "    <tr>\n",
              "      <th>1</th>\n",
              "      <td>2.5</td>\n",
              "      <td>1.400</td>\n",
              "      <td>0.336472</td>\n",
              "      <td>1.785714</td>\n",
              "      <td>0.359126</td>\n",
              "      <td>1.722759</td>\n",
              "    </tr>\n",
              "    <tr>\n",
              "      <th>2</th>\n",
              "      <td>4.0</td>\n",
              "      <td>1.480</td>\n",
              "      <td>0.392042</td>\n",
              "      <td>2.702703</td>\n",
              "      <td>0.362850</td>\n",
              "      <td>2.717739</td>\n",
              "    </tr>\n",
              "    <tr>\n",
              "      <th>3</th>\n",
              "      <td>7.5</td>\n",
              "      <td>1.500</td>\n",
              "      <td>0.405465</td>\n",
              "      <td>5.000000</td>\n",
              "      <td>0.371538</td>\n",
              "      <td>5.039358</td>\n",
              "    </tr>\n",
              "    <tr>\n",
              "      <th>4</th>\n",
              "      <td>12.5</td>\n",
              "      <td>1.500</td>\n",
              "      <td>0.405465</td>\n",
              "      <td>8.333333</td>\n",
              "      <td>0.383950</td>\n",
              "      <td>8.355957</td>\n",
              "    </tr>\n",
              "    <tr>\n",
              "      <th>5</th>\n",
              "      <td>15.0</td>\n",
              "      <td>1.501</td>\n",
              "      <td>0.406132</td>\n",
              "      <td>9.993338</td>\n",
              "      <td>0.390155</td>\n",
              "      <td>10.014257</td>\n",
              "    </tr>\n",
              "    <tr>\n",
              "      <th>6</th>\n",
              "      <td>20.0</td>\n",
              "      <td>1.501</td>\n",
              "      <td>0.406132</td>\n",
              "      <td>13.324450</td>\n",
              "      <td>0.402567</td>\n",
              "      <td>13.330856</td>\n",
              "    </tr>\n",
              "    <tr>\n",
              "      <th>7</th>\n",
              "      <td>32.0</td>\n",
              "      <td>1.501</td>\n",
              "      <td>0.406132</td>\n",
              "      <td>21.319121</td>\n",
              "      <td>0.432355</td>\n",
              "      <td>21.290693</td>\n",
              "    </tr>\n",
              "  </tbody>\n",
              "</table>\n",
              "</div>\n",
              "      <button class=\"colab-df-convert\" onclick=\"convertToInteractive('df-e8a75099-0912-4afb-acf8-fbb8b8f66032')\"\n",
              "              title=\"Convert this dataframe to an interactive table.\"\n",
              "              style=\"display:none;\">\n",
              "        \n",
              "  <svg xmlns=\"http://www.w3.org/2000/svg\" height=\"24px\"viewBox=\"0 0 24 24\"\n",
              "       width=\"24px\">\n",
              "    <path d=\"M0 0h24v24H0V0z\" fill=\"none\"/>\n",
              "    <path d=\"M18.56 5.44l.94 2.06.94-2.06 2.06-.94-2.06-.94-.94-2.06-.94 2.06-2.06.94zm-11 1L8.5 8.5l.94-2.06 2.06-.94-2.06-.94L8.5 2.5l-.94 2.06-2.06.94zm10 10l.94 2.06.94-2.06 2.06-.94-2.06-.94-.94-2.06-.94 2.06-2.06.94z\"/><path d=\"M17.41 7.96l-1.37-1.37c-.4-.4-.92-.59-1.43-.59-.52 0-1.04.2-1.43.59L10.3 9.45l-7.72 7.72c-.78.78-.78 2.05 0 2.83L4 21.41c.39.39.9.59 1.41.59.51 0 1.02-.2 1.41-.59l7.78-7.78 2.81-2.81c.8-.78.8-2.07 0-2.86zM5.41 20L4 18.59l7.72-7.72 1.47 1.35L5.41 20z\"/>\n",
              "  </svg>\n",
              "      </button>\n",
              "      \n",
              "  <style>\n",
              "    .colab-df-container {\n",
              "      display:flex;\n",
              "      flex-wrap:wrap;\n",
              "      gap: 12px;\n",
              "    }\n",
              "\n",
              "    .colab-df-convert {\n",
              "      background-color: #E8F0FE;\n",
              "      border: none;\n",
              "      border-radius: 50%;\n",
              "      cursor: pointer;\n",
              "      display: none;\n",
              "      fill: #1967D2;\n",
              "      height: 32px;\n",
              "      padding: 0 0 0 0;\n",
              "      width: 32px;\n",
              "    }\n",
              "\n",
              "    .colab-df-convert:hover {\n",
              "      background-color: #E2EBFA;\n",
              "      box-shadow: 0px 1px 2px rgba(60, 64, 67, 0.3), 0px 1px 3px 1px rgba(60, 64, 67, 0.15);\n",
              "      fill: #174EA6;\n",
              "    }\n",
              "\n",
              "    [theme=dark] .colab-df-convert {\n",
              "      background-color: #3B4455;\n",
              "      fill: #D2E3FC;\n",
              "    }\n",
              "\n",
              "    [theme=dark] .colab-df-convert:hover {\n",
              "      background-color: #434B5C;\n",
              "      box-shadow: 0px 1px 3px 1px rgba(0, 0, 0, 0.15);\n",
              "      filter: drop-shadow(0px 1px 2px rgba(0, 0, 0, 0.3));\n",
              "      fill: #FFFFFF;\n",
              "    }\n",
              "  </style>\n",
              "\n",
              "      <script>\n",
              "        const buttonEl =\n",
              "          document.querySelector('#df-e8a75099-0912-4afb-acf8-fbb8b8f66032 button.colab-df-convert');\n",
              "        buttonEl.style.display =\n",
              "          google.colab.kernel.accessAllowed ? 'block' : 'none';\n",
              "\n",
              "        async function convertToInteractive(key) {\n",
              "          const element = document.querySelector('#df-e8a75099-0912-4afb-acf8-fbb8b8f66032');\n",
              "          const dataTable =\n",
              "            await google.colab.kernel.invokeFunction('convertToInteractive',\n",
              "                                                     [key], {});\n",
              "          if (!dataTable) return;\n",
              "\n",
              "          const docLinkHtml = 'Like what you see? Visit the ' +\n",
              "            '<a target=\"_blank\" href=https://colab.research.google.com/notebooks/data_table.ipynb>data table notebook</a>'\n",
              "            + ' to learn more about interactive tables.';\n",
              "          element.innerHTML = '';\n",
              "          dataTable['output_type'] = 'display_data';\n",
              "          await google.colab.output.renderOutput(dataTable, element);\n",
              "          const docLink = document.createElement('div');\n",
              "          docLink.innerHTML = docLinkHtml;\n",
              "          element.appendChild(docLink);\n",
              "        }\n",
              "      </script>\n",
              "    </div>\n",
              "  </div>\n",
              "  "
            ],
            "text/plain": [
              "   t (min)  q(mg/g)     ln(q)        t/q  1er Orden  2ndo Orden\n",
              "0      1.0    1.350  0.300105   0.740741   0.355403    0.727780\n",
              "1      2.5    1.400  0.336472   1.785714   0.359126    1.722759\n",
              "2      4.0    1.480  0.392042   2.702703   0.362850    2.717739\n",
              "3      7.5    1.500  0.405465   5.000000   0.371538    5.039358\n",
              "4     12.5    1.500  0.405465   8.333333   0.383950    8.355957\n",
              "5     15.0    1.501  0.406132   9.993338   0.390155   10.014257\n",
              "6     20.0    1.501  0.406132  13.324450   0.402567   13.330856\n",
              "7     32.0    1.501  0.406132  21.319121   0.432355   21.290693"
            ]
          },
          "metadata": {},
          "execution_count": 353
        }
      ]
    },
    {
      "cell_type": "code",
      "metadata": {
        "colab": {
          "base_uri": "https://localhost:8080/",
          "height": 538
        },
        "id": "6Jbbb-_vQpl3",
        "outputId": "bcf9fa8f-90af-4364-9e46-9dea6d1d151a"
      },
      "source": [
        "df_data_cinetica = pd.DataFrame(data_cinetica)\n",
        "ax_1 = df_data_cinetica.plot.scatter(x='t (min)', y='q(mg/g)', figsize=(10,8),\n",
        "                          marker='X', color='r')\n",
        "ax_1.set_xlabel('t (min)')\n",
        "ax_1.set_ylabel('q(mg/g)')\n",
        "ax_1.tick_params(labelsize = 14)\n",
        "ax_1.set_title('Curva de Cinética de Adsorción', fontdict={'fontsize': 18, 'fontweight': 'medium'})\n"
      ],
      "execution_count": null,
      "outputs": [
        {
          "output_type": "execute_result",
          "data": {
            "text/plain": [
              "Text(0.5, 1.0, 'Curva de Cinética de Adsorción')"
            ]
          },
          "metadata": {},
          "execution_count": 354
        },
        {
          "output_type": "display_data",
          "data": {
            "image/png": "[encoded data removed]",
            "text/plain": [
              "<Figure size 720x576 with 1 Axes>"
            ]
          },
          "metadata": {
            "needs_background": "light"
          }
        }
      ]
    },
    {
      "cell_type": "markdown",
      "metadata": {
        "id": "fzMmjfY8Tc-x"
      },
      "source": [
        "## Ecuación de Pseudo primer Orden\n",
        "\n",
        "$q_t = q_e(1-{e}^{kt})$\n",
        "\n",
        "Linealizando la ecuación queda:\n",
        "\n",
        "$\\ln({q_t}) = \\ln({q_e}) + kt$\n",
        "\n",
        "Por tanto,\n",
        "\n",
        "$m = k$\n",
        "\n",
        "$b = \\ln{q_e}$"
      ]
    },
    {
      "cell_type": "code",
      "metadata": {
        "colab": {
          "base_uri": "https://localhost:8080/"
        },
        "id": "Qch2sAf_U7M4",
        "outputId": "aa2a1084-026e-4b30-ad71-642173ee0bf9"
      },
      "source": [
        "#Making data fitting by linear method\n",
        "c1 = np.polyfit(data_cinetica['t (min)'], data_cinetica['ln(q)'],1)\n",
        "e1 = np.poly1d(c1)\n",
        "print(e1)"
      ],
      "execution_count": null,
      "outputs": [
        {
          "output_type": "stream",
          "name": "stdout",
          "text": [
            " \n",
            "0.002482 x + 0.3529\n"
          ]
        }
      ]
    },
    {
      "cell_type": "code",
      "metadata": {
        "id": "0CskXFVTVXcZ"
      },
      "source": [
        "# data_cinetica.insert(4,'1er Orden',e1(df_data_cinetica['t (min)']))\n",
        "# data_cinetica"
      ],
      "execution_count": null,
      "outputs": []
    },
    {
      "cell_type": "code",
      "metadata": {
        "colab": {
          "base_uri": "https://localhost:8080/",
          "height": 538
        },
        "id": "mrNUIOMtV-bL",
        "outputId": "12822f04-2551-4188-f788-00c17be6d877"
      },
      "source": [
        "ax_1 = df_data_cinetica.plot(x='t (min)', y='q(mg/g)', figsize=(10,8),\n",
        "                          marker='X', color='red', label='Datos experimentales',\n",
        "                          linestyle='none')\n",
        "ax_2 = df_data_cinetica.plot.line(x='t (min)', y='ln(q)', secondary_y=True, \n",
        "                                  ax=ax_1, color='k')\n",
        "ax_1.grid(False)\n",
        "ax_1.set_xlabel('t (min)')\n",
        "ax_1.set_ylabel('q(mg/g)')\n",
        "ax_2.set_ylabel('ln(q)')\n",
        "ax_1.tick_params(labelsize = 14)\n",
        "ax_2.tick_params(labelsize=14)\n",
        "ax_1.set_title('Curva de Cinética de Adsorción Optimizada', \n",
        "               fontdict={'fontsize': 18, 'fontweight': 'medium'})\n",
        "# ax_1.legend()\n",
        "# ax_2.legend()\n"
      ],
      "execution_count": null,
      "outputs": [
        {
          "output_type": "execute_result",
          "data": {
            "text/plain": [
              "Text(0.5, 1.0, 'Curva de Cinética de Adsorción Optimizada')"
            ]
          },
          "metadata": {},
          "execution_count": 357
        },
        {
          "output_type": "display_data",
          "data": {
            "image/png": "[encoded data removed]",
            "text/plain": [
              "<Figure size 720x576 with 2 Axes>"
            ]
          },
          "metadata": {
            "needs_background": "light"
          }
        }
      ]
    },
    {
      "cell_type": "code",
      "metadata": {
        "colab": {
          "base_uri": "https://localhost:8080/"
        },
        "id": "UDIEFufBbOyV",
        "outputId": "f19d162f-bfe3-4642-b050-5b1cd22b7599"
      },
      "source": [
        "#R2 Calculation\n",
        "pol_1 = np.polyfit(df_data_cinetica['t (min)'], df_data_cinetica['ln(q)'],1, full=True)\n",
        "coeff = pol_1[0]\n",
        "### Residual or Sum of Square Error (SSE)\n",
        "SSE = pol_1[1][0]\n",
        "\n",
        "### Determining the Sum of Square Total (SST)\n",
        "## the squared differences between the observed dependent variable and its mean\n",
        "diff = df_data_cinetica['1er Orden'] - df_data_cinetica['1er Orden'].mean()\n",
        "square_diff = diff ** 2\n",
        "SST = square_diff.sum()\n",
        "\n",
        "###  Now getting the coefficient of determination (R2)\n",
        "R2 = 1 - SSE/SST \n",
        "print(coeff,R2)"
      ],
      "execution_count": null,
      "outputs": [
        {
          "output_type": "stream",
          "name": "stdout",
          "text": [
            "[0.00248235 0.35292021] -0.4767369910566026\n"
          ]
        }
      ]
    },
    {
      "cell_type": "code",
      "metadata": {
        "colab": {
          "base_uri": "https://localhost:8080/"
        },
        "id": "NLNamp-7n5cd",
        "outputId": "33534f1f-204c-459f-ecc1-295684395cb9"
      },
      "source": [
        "k = coeff[0]\n",
        "q_eq = np.exp(coeff[1])\n",
        "\n",
        "print(k, q_eq)"
      ],
      "execution_count": null,
      "outputs": [
        {
          "output_type": "stream",
          "name": "stdout",
          "text": [
            "0.002482350379909182 1.4232175803930447\n"
          ]
        }
      ]
    },
    {
      "cell_type": "markdown",
      "metadata": {
        "id": "5bnr2-kxovr6"
      },
      "source": [
        "Ecuación de la recta modelo pseudo-primer orden:\n",
        "\n",
        "$\\ln{q_t} = \\ln{q_e} + kt$\n",
        "\n",
        "$\\ln{q_t} = 0.002482*{t} + 0.352920$\n",
        "\n",
        "Parámetros pseudo primer orden:\n",
        "\n",
        "$k = 0.002482 min^{-1}$\n",
        "\n",
        "$q_e = 1.42321 \\frac{mg}{g}$\n",
        "\n",
        "$R^2 = - 0.4037$"
      ]
    },
    {
      "cell_type": "markdown",
      "metadata": {
        "id": "fKEWLxaZqbE6"
      },
      "source": [
        "## Evaluación Modelo cinético Pseudo segundo orden\n",
        "\n",
        "$\\frac{dq}{dt} = k_2*({q_e}-{q})^{2}$\n",
        "\n",
        "Linealizando la ecuación nos queda:\n",
        "\n",
        "$\\frac{t}{q} = \\frac{1}{{k_2}*{q_e}^{2}} + \\frac{1}{q_e}*t$\n",
        "\n",
        "por tanto:\n",
        "\n",
        "$m = \\frac{1}{q_e}$\n",
        "\n",
        "$b = \\frac{1}{{k_2}*{q_e}^{2}}$"
      ]
    },
    {
      "cell_type": "code",
      "metadata": {
        "colab": {
          "base_uri": "https://localhost:8080/"
        },
        "id": "tdVNLcgzrukF",
        "outputId": "e4970281-d6de-435b-bb17-b5c6845bbac7"
      },
      "source": [
        "#Making data fitting by linear method\n",
        "c2 = np.polyfit(df_data_cinetica['t (min)'], df_data_cinetica['t/q'],1)\n",
        "e2 = np.poly1d(c2)\n",
        "print(e2)"
      ],
      "execution_count": null,
      "outputs": [
        {
          "output_type": "stream",
          "name": "stdout",
          "text": [
            " \n",
            "0.6633 x + 0.06446\n"
          ]
        }
      ]
    },
    {
      "cell_type": "code",
      "metadata": {
        "id": "2Bc1ylKbr_Jw"
      },
      "source": [
        "# data_cinetica.insert(5,'2ndo Orden',e2(data_cinetica['t (min)']))\n",
        "# data_cinetica"
      ],
      "execution_count": null,
      "outputs": []
    },
    {
      "cell_type": "code",
      "metadata": {
        "colab": {
          "base_uri": "https://localhost:8080/",
          "height": 538
        },
        "id": "RR5N27ESsIPl",
        "outputId": "727fae68-1fe7-4e00-c2f6-5460867f8411"
      },
      "source": [
        "ax_1 = df_data_cinetica.plot(x='t (min)', y='q(mg/g)', figsize=(10,8),\n",
        "                          marker='X', color='k',label='Datos experimentales',\n",
        "                          linestyle='none')\n",
        "ax_2 = df_data_cinetica.plot.line(x='t (min)', y='2ndo Orden', secondary_y=True, \n",
        "                          ax=ax_1, color='b', marker='+', ms=10, lw=1)\n",
        "ax_1.grid(False)\n",
        "ax_1.set_xlabel('t (min)')\n",
        "ax_1.set_ylabel('q(mg/g)')\n",
        "ax_2.set_ylabel('t/q')\n",
        "ax_1.tick_params(labelsize = 14)\n",
        "ax_2.tick_params(labelsize=14)\n",
        "ax_1.set_title('Curva de Cinética de Adsorción Optimizada', \n",
        "               fontdict={'fontsize': 18, 'fontweight': 'medium'})"
      ],
      "execution_count": null,
      "outputs": [
        {
          "output_type": "execute_result",
          "data": {
            "text/plain": [
              "Text(0.5, 1.0, 'Curva de Cinética de Adsorción Optimizada')"
            ]
          },
          "metadata": {},
          "execution_count": 362
        },
        {
          "output_type": "display_data",
          "data": {
            "image/png": "[encoded data removed]",
            "text/plain": [
              "<Figure size 720x576 with 2 Axes>"
            ]
          },
          "metadata": {
            "needs_background": "light"
          }
        }
      ]
    },
    {
      "cell_type": "code",
      "metadata": {
        "colab": {
          "base_uri": "https://localhost:8080/"
        },
        "id": "ap0iSqubs8vf",
        "outputId": "286ed9fd-a51c-4d28-e238-81dd404f06bc"
      },
      "source": [
        "#R2 Calculation\n",
        "pol_2 = np.polyfit(df_data_cinetica['t (min)'], df_data_cinetica['t/q'],1, full=True)\n",
        "coeff = pol_2[0]\n",
        "### Residual or Sum of Square Error (SSE)\n",
        "SSE = pol_2[1][0]\n",
        "\n",
        "### Determining the Sum of Square Total (SST)\n",
        "## the squared differences between the observed dependent variable and its mean\n",
        "diff = df_data_cinetica['2ndo Orden'] - df_data_cinetica['2ndo Orden'].mean()\n",
        "square_diff = diff ** 2\n",
        "SST = square_diff.sum()\n",
        "\n",
        "###  Now getting the coefficient of determination (R2)\n",
        "R2 = 1 - SSE/SST \n",
        "print(coeff,R2)"
      ],
      "execution_count": null,
      "outputs": [
        {
          "output_type": "stream",
          "name": "stdout",
          "text": [
            "[0.66331979 0.06446   ] 0.9999772120870403\n"
          ]
        }
      ]
    },
    {
      "cell_type": "code",
      "metadata": {
        "colab": {
          "base_uri": "https://localhost:8080/"
        },
        "id": "ydHmF0skxGUH",
        "outputId": "20d0630d-7741-47c6-9cd4-5ac5ebae95d4"
      },
      "source": [
        "#Parameters calculation\n",
        "q_e = 1/coeff[0]\n",
        "k_2 = 1/(coeff[1]*(q_e**2))\n",
        "\n",
        "print(q_e, k_2)"
      ],
      "execution_count": null,
      "outputs": [
        {
          "output_type": "stream",
          "name": "stdout",
          "text": [
            "1.5075684781994318 6.82583166212299\n"
          ]
        }
      ]
    },
    {
      "cell_type": "markdown",
      "metadata": {
        "id": "2kKtvQkZx9x4"
      },
      "source": [
        "Ecuación de la recta:\n",
        "\n",
        "$\\frac{t}{q} = 0.66331*{t} + 0.0644$\n",
        "\n",
        "$R^2 = 0.99997$\n",
        "\n",
        "Parámetros de segundo Orden\n",
        "\n",
        "$q_e = 1.50075 \\frac{mg}{g}$\n",
        "\n",
        "$k_2 = 6.825 \\frac{g}{{mg * min}}$"
      ]
    },
    {
      "cell_type": "code",
      "metadata": {
        "id": "RVfXpfzNzdm3"
      },
      "source": [
        "data_cinetica.to_excel('cinética_data.xlsx', sheet_name='Python')"
      ],
      "execution_count": null,
      "outputs": []
    },
    {
      "cell_type": "markdown",
      "metadata": {
        "id": "q1rY0uLZRckv"
      },
      "source": [
        "# Modelado de la Columna\n",
        "## Relación Carbón Activo - Caudal\n",
        "\n",
        "$\\frac{mc}{Q}$ = $\\frac{C_o-C_f}{q_e}$\n",
        "\n",
        "partiendo de $Q = 1,000 \\frac{L}{h}$\n",
        "\n",
        "Con esta relación se espera encontrar ▶\n",
        "\n",
        "Volumen de lecho ${V_c}$, Area transversal lecho ${S_c}$, altura lecho ${L_c}$ y altura columna ${L_T}$"
      ]
    },
    {
      "cell_type": "code",
      "metadata": {
        "colab": {
          "base_uri": "https://localhost:8080/"
        },
        "id": "boMahz4cTWI8",
        "outputId": "a9fcfd55-9c97-4539-d440-39343d876457"
      },
      "source": [
        "rho_carbon = 640 or None # densidad de carbón activo g/L\n",
        "Co = 20 #mg/L\n",
        "Cf = 2 #mg/L\n",
        "qe = 1.500 #mg Cobalto/g carbón activo\n",
        "Q = 100 # L/h\n",
        "\n",
        "# asumiendo 1 hora de proceso\n",
        "\n",
        "mc = ((Co - Cf) / qe) * Q\n",
        "print(f'La masa de carbón activo necesario es:', round(mc,2), 'g')\n",
        "\n",
        "Vc = mc / rho_carbon\n",
        "print(f'El volumen de carbón activo necesario es:', round(Vc,4), 'L')"
      ],
      "execution_count": null,
      "outputs": [
        {
          "output_type": "stream",
          "name": "stdout",
          "text": [
            "La masa de carbón activo necesario es: 1200.0 g\n",
            "El volumen de carbón activo necesario es: 1.875 L\n"
          ]
        }
      ]
    },
    {
      "cell_type": "markdown",
      "metadata": {
        "id": "QXxOVGVfWttu"
      },
      "source": [
        "## Cálculo del area (Sc) y altura (Lc)"
      ]
    },
    {
      "cell_type": "code",
      "metadata": {
        "colab": {
          "base_uri": "https://localhost:8080/"
        },
        "id": "5l1VAkUEW16l",
        "outputId": "5550c982-f103-455f-eedb-07b8c44d3479"
      },
      "source": [
        "V_meso_gramo = 1.05 #cm3/ g\n",
        "V_meso = (V_meso_gramo/1000)*mc #V_meso en L\n",
        "Eb = V_meso / Vc\n",
        "\n",
        "print(f'La porosidad es:', round(Eb,4))\n",
        "\n",
        "# Asumiendo diámetro de 100 mm de lecho\n",
        "Dc = 0.088 #m\n",
        "Sc = (np.pi*(Dc)**2) / 4\n",
        "\n",
        "print(f'El área de sección transversal es:', round(Sc,4), 'm^2')\n"
      ],
      "execution_count": null,
      "outputs": [
        {
          "output_type": "stream",
          "name": "stdout",
          "text": [
            "La porosidad es: 0.672\n",
            "El área de sección transversal es: 0.0061 m^2\n"
          ]
        }
      ]
    },
    {
      "cell_type": "code",
      "metadata": {
        "colab": {
          "base_uri": "https://localhost:8080/"
        },
        "id": "U8_5ailRjf36",
        "outputId": "5cc8eb52-8e6a-4557-8712-3a47157429cf"
      },
      "source": [
        "Lc = Vc/(Sc*1000)\n",
        "print(f'La longitud del lecho es:', round(Lc,4), 'm')\n",
        "\n",
        "# añadiendo 20% de compensación\n",
        "Lt = 1.20*Lc\n",
        "print(f'longitud total de la columna:', round(Lt,4), 'm')"
      ],
      "execution_count": null,
      "outputs": [
        {
          "output_type": "stream",
          "name": "stdout",
          "text": [
            "La longitud del lecho es: 0.3083 m\n",
            "longitud total de la columna: 0.3699 m\n"
          ]
        }
      ]
    },
    {
      "cell_type": "code",
      "metadata": {
        "id": "5a7XsctMN5vh"
      },
      "source": [
        "Qs_array = np.linspace(20, 500, 20)\n",
        "def column_dinamica(C1, C2, q, Q_s, rho):\n",
        "  Sc = (np.pi*(Dc)**2) / 4\n",
        "  mc = []\n",
        "  # se va a calcular mása de adsorbente, Volumne, area transversal, Longitudes\n",
        "  # para varios caudales\n",
        "  for Q in Q_s:\n",
        "    mc.append(((C1-C2)*Q)/q)\n",
        "    Vc = np.array(mc)/rho\n",
        "    Lc = np.array(Vc/(Sc*1000))\n",
        "    Lt = np.array(1.20*Lc)\n",
        "  df = pd.DataFrame({'Caudal (L/h)': Q_s,'Masa carbón (g)': np.array(mc), 'Volumen de carbón m3': Vc, \n",
        "                     'Altura del lecho, m':Lc, 'Altura total (m)':Lt})\n",
        "  \n",
        "  return df\n",
        "\n",
        "\n"
      ],
      "execution_count": null,
      "outputs": []
    },
    {
      "cell_type": "code",
      "metadata": {
        "colab": {
          "base_uri": "https://localhost:8080/",
          "height": 677
        },
        "id": "Ke7GyOw_RChH",
        "outputId": "ffe4963f-0a0c-4457-f36f-9268ee0ebe2e"
      },
      "source": [
        "data = column_dinamica(20,2, 1.500, Qs_array, rho_carbon)\n",
        "data"
      ],
      "execution_count": null,
      "outputs": [
        {
          "output_type": "execute_result",
          "data": {
            "text/html": [
              "\n",
              "  <div id=\"df-8f0ad7bc-3945-4446-a146-d3bc5fad167f\">\n",
              "    <div class=\"colab-df-container\">\n",
              "      <div>\n",
              "<style scoped>\n",
              "    .dataframe tbody tr th:only-of-type {\n",
              "        vertical-align: middle;\n",
              "    }\n",
              "\n",
              "    .dataframe tbody tr th {\n",
              "        vertical-align: top;\n",
              "    }\n",
              "\n",
              "    .dataframe thead th {\n",
              "        text-align: right;\n",
              "    }\n",
              "</style>\n",
              "<table border=\"1\" class=\"dataframe\">\n",
              "  <thead>\n",
              "    <tr style=\"text-align: right;\">\n",
              "      <th></th>\n",
              "      <th>Caudal (L/h)</th>\n",
              "      <th>Masa carbón (g)</th>\n",
              "      <th>Volumen de carbón m3</th>\n",
              "      <th>Altura del lecho, m</th>\n",
              "      <th>Altura total (m)</th>\n",
              "    </tr>\n",
              "  </thead>\n",
              "  <tbody>\n",
              "    <tr>\n",
              "      <th>0</th>\n",
              "      <td>20.000000</td>\n",
              "      <td>240.000000</td>\n",
              "      <td>0.375000</td>\n",
              "      <td>0.061656</td>\n",
              "      <td>0.073987</td>\n",
              "    </tr>\n",
              "    <tr>\n",
              "      <th>1</th>\n",
              "      <td>45.263158</td>\n",
              "      <td>543.157895</td>\n",
              "      <td>0.848684</td>\n",
              "      <td>0.139537</td>\n",
              "      <td>0.167445</td>\n",
              "    </tr>\n",
              "    <tr>\n",
              "      <th>2</th>\n",
              "      <td>70.526316</td>\n",
              "      <td>846.315789</td>\n",
              "      <td>1.322368</td>\n",
              "      <td>0.217419</td>\n",
              "      <td>0.260903</td>\n",
              "    </tr>\n",
              "    <tr>\n",
              "      <th>3</th>\n",
              "      <td>95.789474</td>\n",
              "      <td>1149.473684</td>\n",
              "      <td>1.796053</td>\n",
              "      <td>0.295300</td>\n",
              "      <td>0.354360</td>\n",
              "    </tr>\n",
              "    <tr>\n",
              "      <th>4</th>\n",
              "      <td>121.052632</td>\n",
              "      <td>1452.631579</td>\n",
              "      <td>2.269737</td>\n",
              "      <td>0.373182</td>\n",
              "      <td>0.447818</td>\n",
              "    </tr>\n",
              "    <tr>\n",
              "      <th>5</th>\n",
              "      <td>146.315789</td>\n",
              "      <td>1755.789474</td>\n",
              "      <td>2.743421</td>\n",
              "      <td>0.451063</td>\n",
              "      <td>0.541276</td>\n",
              "    </tr>\n",
              "    <tr>\n",
              "      <th>6</th>\n",
              "      <td>171.578947</td>\n",
              "      <td>2058.947368</td>\n",
              "      <td>3.217105</td>\n",
              "      <td>0.528944</td>\n",
              "      <td>0.634733</td>\n",
              "    </tr>\n",
              "    <tr>\n",
              "      <th>7</th>\n",
              "      <td>196.842105</td>\n",
              "      <td>2362.105263</td>\n",
              "      <td>3.690789</td>\n",
              "      <td>0.606826</td>\n",
              "      <td>0.728191</td>\n",
              "    </tr>\n",
              "    <tr>\n",
              "      <th>8</th>\n",
              "      <td>222.105263</td>\n",
              "      <td>2665.263158</td>\n",
              "      <td>4.164474</td>\n",
              "      <td>0.684707</td>\n",
              "      <td>0.821649</td>\n",
              "    </tr>\n",
              "    <tr>\n",
              "      <th>9</th>\n",
              "      <td>247.368421</td>\n",
              "      <td>2968.421053</td>\n",
              "      <td>4.638158</td>\n",
              "      <td>0.762589</td>\n",
              "      <td>0.915106</td>\n",
              "    </tr>\n",
              "    <tr>\n",
              "      <th>10</th>\n",
              "      <td>272.631579</td>\n",
              "      <td>3271.578947</td>\n",
              "      <td>5.111842</td>\n",
              "      <td>0.840470</td>\n",
              "      <td>1.008564</td>\n",
              "    </tr>\n",
              "    <tr>\n",
              "      <th>11</th>\n",
              "      <td>297.894737</td>\n",
              "      <td>3574.736842</td>\n",
              "      <td>5.585526</td>\n",
              "      <td>0.918351</td>\n",
              "      <td>1.102022</td>\n",
              "    </tr>\n",
              "    <tr>\n",
              "      <th>12</th>\n",
              "      <td>323.157895</td>\n",
              "      <td>3877.894737</td>\n",
              "      <td>6.059211</td>\n",
              "      <td>0.996233</td>\n",
              "      <td>1.195479</td>\n",
              "    </tr>\n",
              "    <tr>\n",
              "      <th>13</th>\n",
              "      <td>348.421053</td>\n",
              "      <td>4181.052632</td>\n",
              "      <td>6.532895</td>\n",
              "      <td>1.074114</td>\n",
              "      <td>1.288937</td>\n",
              "    </tr>\n",
              "    <tr>\n",
              "      <th>14</th>\n",
              "      <td>373.684211</td>\n",
              "      <td>4484.210526</td>\n",
              "      <td>7.006579</td>\n",
              "      <td>1.151996</td>\n",
              "      <td>1.382395</td>\n",
              "    </tr>\n",
              "    <tr>\n",
              "      <th>15</th>\n",
              "      <td>398.947368</td>\n",
              "      <td>4787.368421</td>\n",
              "      <td>7.480263</td>\n",
              "      <td>1.229877</td>\n",
              "      <td>1.475852</td>\n",
              "    </tr>\n",
              "    <tr>\n",
              "      <th>16</th>\n",
              "      <td>424.210526</td>\n",
              "      <td>5090.526316</td>\n",
              "      <td>7.953947</td>\n",
              "      <td>1.307758</td>\n",
              "      <td>1.569310</td>\n",
              "    </tr>\n",
              "    <tr>\n",
              "      <th>17</th>\n",
              "      <td>449.473684</td>\n",
              "      <td>5393.684211</td>\n",
              "      <td>8.427632</td>\n",
              "      <td>1.385640</td>\n",
              "      <td>1.662768</td>\n",
              "    </tr>\n",
              "    <tr>\n",
              "      <th>18</th>\n",
              "      <td>474.736842</td>\n",
              "      <td>5696.842105</td>\n",
              "      <td>8.901316</td>\n",
              "      <td>1.463521</td>\n",
              "      <td>1.756225</td>\n",
              "    </tr>\n",
              "    <tr>\n",
              "      <th>19</th>\n",
              "      <td>500.000000</td>\n",
              "      <td>6000.000000</td>\n",
              "      <td>9.375000</td>\n",
              "      <td>1.541402</td>\n",
              "      <td>1.849683</td>\n",
              "    </tr>\n",
              "  </tbody>\n",
              "</table>\n",
              "</div>\n",
              "      <button class=\"colab-df-convert\" onclick=\"convertToInteractive('df-8f0ad7bc-3945-4446-a146-d3bc5fad167f')\"\n",
              "              title=\"Convert this dataframe to an interactive table.\"\n",
              "              style=\"display:none;\">\n",
              "        \n",
              "  <svg xmlns=\"http://www.w3.org/2000/svg\" height=\"24px\"viewBox=\"0 0 24 24\"\n",
              "       width=\"24px\">\n",
              "    <path d=\"M0 0h24v24H0V0z\" fill=\"none\"/>\n",
              "    <path d=\"M18.56 5.44l.94 2.06.94-2.06 2.06-.94-2.06-.94-.94-2.06-.94 2.06-2.06.94zm-11 1L8.5 8.5l.94-2.06 2.06-.94-2.06-.94L8.5 2.5l-.94 2.06-2.06.94zm10 10l.94 2.06.94-2.06 2.06-.94-2.06-.94-.94-2.06-.94 2.06-2.06.94z\"/><path d=\"M17.41 7.96l-1.37-1.37c-.4-.4-.92-.59-1.43-.59-.52 0-1.04.2-1.43.59L10.3 9.45l-7.72 7.72c-.78.78-.78 2.05 0 2.83L4 21.41c.39.39.9.59 1.41.59.51 0 1.02-.2 1.41-.59l7.78-7.78 2.81-2.81c.8-.78.8-2.07 0-2.86zM5.41 20L4 18.59l7.72-7.72 1.47 1.35L5.41 20z\"/>\n",
              "  </svg>\n",
              "      </button>\n",
              "      \n",
              "  <style>\n",
              "    .colab-df-container {\n",
              "      display:flex;\n",
              "      flex-wrap:wrap;\n",
              "      gap: 12px;\n",
              "    }\n",
              "\n",
              "    .colab-df-convert {\n",
              "      background-color: #E8F0FE;\n",
              "      border: none;\n",
              "      border-radius: 50%;\n",
              "      cursor: pointer;\n",
              "      display: none;\n",
              "      fill: #1967D2;\n",
              "      height: 32px;\n",
              "      padding: 0 0 0 0;\n",
              "      width: 32px;\n",
              "    }\n",
              "\n",
              "    .colab-df-convert:hover {\n",
              "      background-color: #E2EBFA;\n",
              "      box-shadow: 0px 1px 2px rgba(60, 64, 67, 0.3), 0px 1px 3px 1px rgba(60, 64, 67, 0.15);\n",
              "      fill: #174EA6;\n",
              "    }\n",
              "\n",
              "    [theme=dark] .colab-df-convert {\n",
              "      background-color: #3B4455;\n",
              "      fill: #D2E3FC;\n",
              "    }\n",
              "\n",
              "    [theme=dark] .colab-df-convert:hover {\n",
              "      background-color: #434B5C;\n",
              "      box-shadow: 0px 1px 3px 1px rgba(0, 0, 0, 0.15);\n",
              "      filter: drop-shadow(0px 1px 2px rgba(0, 0, 0, 0.3));\n",
              "      fill: #FFFFFF;\n",
              "    }\n",
              "  </style>\n",
              "\n",
              "      <script>\n",
              "        const buttonEl =\n",
              "          document.querySelector('#df-8f0ad7bc-3945-4446-a146-d3bc5fad167f button.colab-df-convert');\n",
              "        buttonEl.style.display =\n",
              "          google.colab.kernel.accessAllowed ? 'block' : 'none';\n",
              "\n",
              "        async function convertToInteractive(key) {\n",
              "          const element = document.querySelector('#df-8f0ad7bc-3945-4446-a146-d3bc5fad167f');\n",
              "          const dataTable =\n",
              "            await google.colab.kernel.invokeFunction('convertToInteractive',\n",
              "                                                     [key], {});\n",
              "          if (!dataTable) return;\n",
              "\n",
              "          const docLinkHtml = 'Like what you see? Visit the ' +\n",
              "            '<a target=\"_blank\" href=https://colab.research.google.com/notebooks/data_table.ipynb>data table notebook</a>'\n",
              "            + ' to learn more about interactive tables.';\n",
              "          element.innerHTML = '';\n",
              "          dataTable['output_type'] = 'display_data';\n",
              "          await google.colab.output.renderOutput(dataTable, element);\n",
              "          const docLink = document.createElement('div');\n",
              "          docLink.innerHTML = docLinkHtml;\n",
              "          element.appendChild(docLink);\n",
              "        }\n",
              "      </script>\n",
              "    </div>\n",
              "  </div>\n",
              "  "
            ],
            "text/plain": [
              "    Caudal (L/h)  Masa carbón (g)  ...  Altura del lecho, m  Altura total (m)\n",
              "0      20.000000       240.000000  ...             0.061656          0.073987\n",
              "1      45.263158       543.157895  ...             0.139537          0.167445\n",
              "2      70.526316       846.315789  ...             0.217419          0.260903\n",
              "3      95.789474      1149.473684  ...             0.295300          0.354360\n",
              "4     121.052632      1452.631579  ...             0.373182          0.447818\n",
              "5     146.315789      1755.789474  ...             0.451063          0.541276\n",
              "6     171.578947      2058.947368  ...             0.528944          0.634733\n",
              "7     196.842105      2362.105263  ...             0.606826          0.728191\n",
              "8     222.105263      2665.263158  ...             0.684707          0.821649\n",
              "9     247.368421      2968.421053  ...             0.762589          0.915106\n",
              "10    272.631579      3271.578947  ...             0.840470          1.008564\n",
              "11    297.894737      3574.736842  ...             0.918351          1.102022\n",
              "12    323.157895      3877.894737  ...             0.996233          1.195479\n",
              "13    348.421053      4181.052632  ...             1.074114          1.288937\n",
              "14    373.684211      4484.210526  ...             1.151996          1.382395\n",
              "15    398.947368      4787.368421  ...             1.229877          1.475852\n",
              "16    424.210526      5090.526316  ...             1.307758          1.569310\n",
              "17    449.473684      5393.684211  ...             1.385640          1.662768\n",
              "18    474.736842      5696.842105  ...             1.463521          1.756225\n",
              "19    500.000000      6000.000000  ...             1.541402          1.849683\n",
              "\n",
              "[20 rows x 5 columns]"
            ]
          },
          "metadata": {},
          "execution_count": 370
        }
      ]
    },
    {
      "cell_type": "markdown",
      "source": [
        "# Scaling-Up del proceso\n",
        "## Datos de entrada del proceso\n",
        "\n",
        "Partiremos de las condiciones de entrada reales de las aguas de la Rep. Dem. del\n",
        "Congo. Seguidamente, dimensionaremos las columnas de adsorción.\n",
        "\n",
        "## CAlCULOS HECHOS EN EXCEL"
      ],
      "metadata": {
        "id": "FTohyQQtYHVC"
      }
    },
    {
      "cell_type": "markdown",
      "source": [
        "# Simulación de la Columna Empacada\n",
        "\n",
        "Aplicaremos el modelo de adsorción pseudo segundo orden:\n",
        "\n",
        "$\\frac{dq}{dt} = k_2*({q_e}-{q})^{2}$"
      ],
      "metadata": {
        "id": "mRbXOprGLvkF"
      }
    },
    {
      "cell_type": "code",
      "source": [
        "Cs = np.linspace(5,100, num=8) # mg/L\n",
        "Vt = 225000 #L escala industrial\n",
        "mt = 22476000 #g masa industrial\n",
        "Ci = 150 #mg/L\n",
        "qf = []\n",
        "for C in Cs:\n",
        "  qf.append(((Ci - C)*Vt)/mt)\n",
        "qf"
      ],
      "metadata": {
        "colab": {
          "base_uri": "https://localhost:8080/"
        },
        "id": "3JqC54NKYogD",
        "outputId": "4747366c-b7d7-4b47-de24-806ffa9a0323"
      },
      "execution_count": null,
      "outputs": [
        {
          "output_type": "execute_result",
          "data": {
            "text/plain": [
              "[1.4515483182060864,\n",
              " 1.315689116009458,\n",
              " 1.179829913812829,\n",
              " 1.0439707116162,\n",
              " 0.9081115094195714,\n",
              " 0.7722523072229425,\n",
              " 0.6363931050263137,\n",
              " 0.500533902829685]"
            ]
          },
          "metadata": {},
          "execution_count": 371
        }
      ]
    },
    {
      "cell_type": "code",
      "source": [
        "from scipy.integrate import odeint\n",
        "from scipy.integrate import solve_ivp\n",
        "import matplotlib.colors as mcolors\n",
        "%matplotlib inline\n",
        "\n",
        "# Model \n",
        "def F(q,t):\n",
        "  qe = 1.5\n",
        "  k_2 = 6.82583\n",
        "  dqdt = k_2*((qe - q)**2)\n",
        "  return dqdt\n",
        "\n",
        "\n",
        "# Plot ODE\n",
        "\n",
        "xt = {}\n",
        "ys = {}\n",
        "sol= {}\n",
        "plt.figure(figsize=(10,8),)\n",
        "colors = list(mcolors.TABLEAU_COLORS)\n",
        "for i in range(len(qf)):\n",
        "  j = np.random.randint(0, 9)\n",
        "  xt[i] = np.arange(0,6, 0.5)\n",
        "  sol[i] = odeint(F, qf[i], xt[i])\n",
        "  ys[i] = np.array(sol[i]).flatten()\n",
        "  plt.plot(xt[i], ys[i], marker =\".\", color=colors[j], label= round(Cs[i], 2))\n",
        "  plt.title('Cinética de adsorción', fontsize=16)\n",
        "  plt.ylabel('q mg/g', fontsize=15)\n",
        "  plt.xlabel('Tiempo en min', fontsize=15)\n",
        "plt.legend(title=\"C0 (mg Co2+/L)\", loc=\"best\")\n",
        "plt.show()\n",
        "\n"
      ],
      "metadata": {
        "colab": {
          "base_uri": "https://localhost:8080/",
          "height": 520
        },
        "id": "Gp2PI3QfOH0k",
        "outputId": "7523fc23-435a-4384-dcda-01557d833a0a"
      },
      "execution_count": null,
      "outputs": [
        {
          "output_type": "display_data",
          "data": {
            "image/png": "[encoded data removed]",
            "text/plain": [
              "<Figure size 720x576 with 1 Axes>"
            ]
          },
          "metadata": {
            "needs_background": "light"
          }
        }
      ]
    },
    {
      "cell_type": "code",
      "source": [
        "Vol = 35118.75 # L\n",
        "def ThomasModel(t):\n",
        "  Y = 1 / (1 + np.exp((k_2*qe*mt) / Vt - k_2*Ci*Vol))\n",
        "  return Y"
      ],
      "metadata": {
        "id": "dpRZhUVzsO9P"
      },
      "execution_count": null,
      "outputs": []
    },
    {
      "cell_type": "code",
      "source": [
        "xtt = np.arange(0,1,0.25, dtype=np.float64)\n",
        "Y_C = {}\n",
        "for i in range(len(xtt)):\n",
        "  Y_C[i] = ThomasModel(xtt[i])\n",
        "\n",
        "plt.plot(xtt, list(Y_C))\n"
      ],
      "metadata": {
        "colab": {
          "base_uri": "https://localhost:8080/",
          "height": 282
        },
        "id": "jjymSCvtzHxW",
        "outputId": "513b7528-40b1-4df1-aa37-18b2efe0b0ff"
      },
      "execution_count": null,
      "outputs": [
        {
          "output_type": "execute_result",
          "data": {
            "text/plain": [
              "[<matplotlib.lines.Line2D at 0x7f1dba05dcd0>]"
            ]
          },
          "metadata": {},
          "execution_count": 374
        },
        {
          "output_type": "display_data",
          "data": {
            "image/png": "[encoded data removed]",
            "text/plain": [
              "<Figure size 432x288 with 1 Axes>"
            ]
          },
          "metadata": {
            "needs_background": "light"
          }
        }
      ]
    },
    {
      "cell_type": "code",
      "source": [
        "list(Y_C)"
      ],
      "metadata": {
        "colab": {
          "base_uri": "https://localhost:8080/"
        },
        "id": "Vr1roMf4z6ap",
        "outputId": "6cfc0e2e-3722-47aa-dd97-444a2726bc8c"
      },
      "execution_count": null,
      "outputs": [
        {
          "output_type": "execute_result",
          "data": {
            "text/plain": [
              "[0, 1, 2, 3, 4]"
            ]
          },
          "metadata": {},
          "execution_count": 318
        }
      ]
    },
    {
      "cell_type": "code",
      "metadata": {
        "id": "nVvfgxn03qbe",
        "colab": {
          "base_uri": "https://localhost:8080/"
        },
        "outputId": "40e1bd4d-23b2-4ef7-c672-b759171ade34"
      },
      "source": [
        "!apt-get install texlive-xetex texlive-fonts-recommended texlive-plain-generic"
      ],
      "execution_count": null,
      "outputs": [
        {
          "output_type": "stream",
          "name": "stdout",
          "text": [
            "Reading package lists... Done\n",
            "Building dependency tree       \n",
            "Reading state information... Done\n",
            "The following packages were automatically installed and are no longer required:\n",
            "  cuda-command-line-tools-10-0 cuda-command-line-tools-10-1\n",
            "  cuda-command-line-tools-11-0 cuda-compiler-10-0 cuda-compiler-10-1\n",
            "  cuda-compiler-11-0 cuda-cuobjdump-10-0 cuda-cuobjdump-10-1\n",
            "  cuda-cuobjdump-11-0 cuda-cupti-10-0 cuda-cupti-10-1 cuda-cupti-11-0\n",
            "  cuda-cupti-dev-11-0 cuda-documentation-10-0 cuda-documentation-10-1\n",
            "  cuda-documentation-11-0 cuda-documentation-11-1 cuda-gdb-10-0 cuda-gdb-10-1\n",
            "  cuda-gdb-11-0 cuda-gpu-library-advisor-10-0 cuda-gpu-library-advisor-10-1\n",
            "  cuda-libraries-10-0 cuda-libraries-10-1 cuda-libraries-11-0\n",
            "  cuda-memcheck-10-0 cuda-memcheck-10-1 cuda-memcheck-11-0 cuda-nsight-10-0\n",
            "  cuda-nsight-10-1 cuda-nsight-11-0 cuda-nsight-11-1 cuda-nsight-compute-10-0\n",
            "  cuda-nsight-compute-10-1 cuda-nsight-compute-11-0 cuda-nsight-compute-11-1\n",
            "  cuda-nsight-systems-10-1 cuda-nsight-systems-11-0 cuda-nsight-systems-11-1\n",
            "  cuda-nvcc-10-0 cuda-nvcc-10-1 cuda-nvcc-11-0 cuda-nvdisasm-10-0\n",
            "  cuda-nvdisasm-10-1 cuda-nvdisasm-11-0 cuda-nvml-dev-10-0 cuda-nvml-dev-10-1\n",
            "  cuda-nvml-dev-11-0 cuda-nvprof-10-0 cuda-nvprof-10-1 cuda-nvprof-11-0\n",
            "  cuda-nvprune-10-0 cuda-nvprune-10-1 cuda-nvprune-11-0 cuda-nvtx-10-0\n",
            "  cuda-nvtx-10-1 cuda-nvtx-11-0 cuda-nvvp-10-0 cuda-nvvp-10-1 cuda-nvvp-11-0\n",
            "  cuda-nvvp-11-1 cuda-samples-10-0 cuda-samples-10-1 cuda-samples-11-0\n",
            "  cuda-samples-11-1 cuda-sanitizer-11-0 cuda-sanitizer-api-10-1\n",
            "  cuda-toolkit-10-0 cuda-toolkit-10-1 cuda-toolkit-11-0 cuda-toolkit-11-1\n",
            "  cuda-tools-10-0 cuda-tools-10-1 cuda-tools-11-0 cuda-tools-11-1\n",
            "  cuda-visual-tools-10-0 cuda-visual-tools-10-1 cuda-visual-tools-11-0\n",
            "  cuda-visual-tools-11-1 default-jre dkms freeglut3 freeglut3-dev\n",
            "  keyboard-configuration libargon2-0 libcap2 libcryptsetup12\n",
            "  libdevmapper1.02.1 libfontenc1 libip4tc0 libjansson4 libnvidia-cfg1-510\n",
            "  libnvidia-common-460 libnvidia-common-510 libnvidia-extra-510\n",
            "  libnvidia-fbc1-510 libnvidia-gl-510 libpam-systemd libpolkit-agent-1-0\n",
            "  libpolkit-backend-1-0 libpolkit-gobject-1-0 libxfont2 libxi-dev libxkbfile1\n",
            "  libxmu-dev libxmu-headers libxnvctrl0 libxtst6 nsight-compute-2020.2.1\n",
            "  nsight-compute-2022.1.0 nsight-systems-2020.3.2 nsight-systems-2020.3.4\n",
            "  nsight-systems-2021.5.2 nvidia-dkms-510 nvidia-kernel-common-510\n",
            "  nvidia-kernel-source-510 nvidia-modprobe nvidia-settings openjdk-11-jre\n",
            "  policykit-1 policykit-1-gnome python3-xkit screen-resolution-extra systemd\n",
            "  systemd-sysv udev x11-xkb-utils xserver-common xserver-xorg-core-hwe-18.04\n",
            "  xserver-xorg-video-nvidia-510\n",
            "Use 'apt autoremove' to remove them.\n",
            "The following additional packages will be installed:\n",
            "  fonts-droid-fallback fonts-lato fonts-lmodern fonts-noto-mono fonts-texgyre\n",
            "  javascript-common libcupsfilters1 libcupsimage2 libgs9 libgs9-common\n",
            "  libijs-0.35 libjbig2dec0 libjs-jquery libkpathsea6 libpotrace0 libptexenc1\n",
            "  libruby2.5 libsynctex1 libtexlua52 libtexluajit2 libzzip-0-13 lmodern\n",
            "  poppler-data preview-latex-style rake ruby ruby-did-you-mean ruby-minitest\n",
            "  ruby-net-telnet ruby-power-assert ruby-test-unit ruby2.5\n",
            "  rubygems-integration t1utils tex-common tex-gyre texlive-base\n",
            "  texlive-binaries texlive-latex-base texlive-latex-extra\n",
            "  texlive-latex-recommended texlive-pictures tipa\n",
            "Suggested packages:\n",
            "  fonts-noto apache2 | lighttpd | httpd poppler-utils ghostscript\n",
            "  fonts-japanese-mincho | fonts-ipafont-mincho fonts-japanese-gothic\n",
            "  | fonts-ipafont-gothic fonts-arphic-ukai fonts-arphic-uming fonts-nanum ri\n",
            "  ruby-dev bundler debhelper gv | postscript-viewer perl-tk xpdf-reader\n",
            "  | pdf-viewer texlive-fonts-recommended-doc texlive-latex-base-doc\n",
            "  python-pygments icc-profiles libfile-which-perl\n",
            "  libspreadsheet-parseexcel-perl texlive-latex-extra-doc\n",
            "  texlive-latex-recommended-doc texlive-pstricks dot2tex prerex ruby-tcltk\n",
            "  | libtcltk-ruby texlive-pictures-doc vprerex\n",
            "The following NEW packages will be installed:\n",
            "  fonts-droid-fallback fonts-lato fonts-lmodern fonts-noto-mono fonts-texgyre\n",
            "  javascript-common libcupsfilters1 libcupsimage2 libgs9 libgs9-common\n",
            "  libijs-0.35 libjbig2dec0 libjs-jquery libkpathsea6 libpotrace0 libptexenc1\n",
            "  libruby2.5 libsynctex1 libtexlua52 libtexluajit2 libzzip-0-13 lmodern\n",
            "  poppler-data preview-latex-style rake ruby ruby-did-you-mean ruby-minitest\n",
            "  ruby-net-telnet ruby-power-assert ruby-test-unit ruby2.5\n",
            "  rubygems-integration t1utils tex-common tex-gyre texlive-base\n",
            "  texlive-binaries texlive-fonts-recommended texlive-latex-base\n",
            "  texlive-latex-extra texlive-latex-recommended texlive-pictures\n",
            "  texlive-plain-generic texlive-xetex tipa\n",
            "0 upgraded, 46 newly installed, 0 to remove and 39 not upgraded.\n",
            "Need to get 146 MB of archives.\n",
            "After this operation, 460 MB of additional disk space will be used.\n",
            "Get:1 http://archive.ubuntu.com/ubuntu bionic/main amd64 fonts-droid-fallback all 1:6.0.1r16-1.1 [1,805 kB]\n",
            "Get:2 http://archive.ubuntu.com/ubuntu bionic/main amd64 fonts-lato all 2.0-2 [2,698 kB]\n",
            "Get:3 http://archive.ubuntu.com/ubuntu bionic/main amd64 poppler-data all 0.4.8-2 [1,479 kB]\n",
            "Get:4 http://archive.ubuntu.com/ubuntu bionic/main amd64 tex-common all 6.09 [33.0 kB]\n",
            "Get:5 http://archive.ubuntu.com/ubuntu bionic/main amd64 fonts-lmodern all 2.004.5-3 [4,551 kB]\n",
            "Get:6 http://archive.ubuntu.com/ubuntu bionic/main amd64 fonts-noto-mono all 20171026-2 [75.5 kB]\n",
            "Get:7 http://archive.ubuntu.com/ubuntu bionic/universe amd64 fonts-texgyre all 20160520-1 [8,761 kB]\n",
            "Get:8 http://archive.ubuntu.com/ubuntu bionic/main amd64 javascript-common all 11 [6,066 B]\n",
            "Get:9 http://archive.ubuntu.com/ubuntu bionic-updates/main amd64 libcupsfilters1 amd64 1.20.2-0ubuntu3.1 [108 kB]\n",
            "Get:10 http://archive.ubuntu.com/ubuntu bionic-updates/main amd64 libcupsimage2 amd64 2.2.7-1ubuntu2.8 [18.6 kB]\n",
            "Get:11 http://archive.ubuntu.com/ubuntu bionic/main amd64 libijs-0.35 amd64 0.35-13 [15.5 kB]\n",
            "Get:12 http://archive.ubuntu.com/ubuntu bionic/main amd64 libjbig2dec0 amd64 0.13-6 [55.9 kB]\n",
            "Get:13 http://archive.ubuntu.com/ubuntu bionic-updates/main amd64 libgs9-common all 9.26~dfsg+0-0ubuntu0.18.04.15 [5,092 kB]\n",
            "Get:14 http://archive.ubuntu.com/ubuntu bionic-updates/main amd64 libgs9 amd64 9.26~dfsg+0-0ubuntu0.18.04.15 [2,265 kB]\n",
            "Get:15 http://archive.ubuntu.com/ubuntu bionic/main amd64 libjs-jquery all 3.2.1-1 [152 kB]\n",
            "Get:16 http://archive.ubuntu.com/ubuntu bionic-updates/main amd64 libkpathsea6 amd64 2017.20170613.44572-8ubuntu0.1 [54.9 kB]\n",
            "Get:17 http://archive.ubuntu.com/ubuntu bionic/main amd64 libpotrace0 amd64 1.14-2 [17.4 kB]\n",
            "Get:18 http://archive.ubuntu.com/ubuntu bionic-updates/main amd64 libptexenc1 amd64 2017.20170613.44572-8ubuntu0.1 [34.5 kB]\n",
            "Get:19 http://archive.ubuntu.com/ubuntu bionic/main amd64 rubygems-integration all 1.11 [4,994 B]\n",
            "Get:20 http://archive.ubuntu.com/ubuntu bionic-updates/main amd64 ruby2.5 amd64 2.5.1-1ubuntu1.11 [48.6 kB]\n",
            "Get:21 http://archive.ubuntu.com/ubuntu bionic/main amd64 ruby amd64 1:2.5.1 [5,712 B]\n",
            "Get:22 http://archive.ubuntu.com/ubuntu bionic-updates/main amd64 rake all 12.3.1-1ubuntu0.1 [44.9 kB]\n",
            "Get:23 http://archive.ubuntu.com/ubuntu bionic/main amd64 ruby-did-you-mean all 1.2.0-2 [9,700 B]\n",
            "Get:24 http://archive.ubuntu.com/ubuntu bionic/main amd64 ruby-minitest all 5.10.3-1 [38.6 kB]\n",
            "Get:25 http://archive.ubuntu.com/ubuntu bionic/main amd64 ruby-net-telnet all 0.1.1-2 [12.6 kB]\n",
            "Get:26 http://archive.ubuntu.com/ubuntu bionic/main amd64 ruby-power-assert all 0.3.0-1 [7,952 B]\n",
            "Get:27 http://archive.ubuntu.com/ubuntu bionic/main amd64 ruby-test-unit all 3.2.5-1 [61.1 kB]\n",
            "Get:28 http://archive.ubuntu.com/ubuntu bionic-updates/main amd64 libruby2.5 amd64 2.5.1-1ubuntu1.11 [3,072 kB]\n",
            "Get:29 http://archive.ubuntu.com/ubuntu bionic-updates/main amd64 libsynctex1 amd64 2017.20170613.44572-8ubuntu0.1 [41.4 kB]\n",
            "Get:30 http://archive.ubuntu.com/ubuntu bionic-updates/main amd64 libtexlua52 amd64 2017.20170613.44572-8ubuntu0.1 [91.2 kB]\n",
            "Get:31 http://archive.ubuntu.com/ubuntu bionic-updates/main amd64 libtexluajit2 amd64 2017.20170613.44572-8ubuntu0.1 [230 kB]\n",
            "Get:32 http://archive.ubuntu.com/ubuntu bionic-updates/main amd64 libzzip-0-13 amd64 0.13.62-3.1ubuntu0.18.04.1 [26.0 kB]\n",
            "Get:33 http://archive.ubuntu.com/ubuntu bionic/main amd64 lmodern all 2.004.5-3 [9,631 kB]\n",
            "Get:34 http://archive.ubuntu.com/ubuntu bionic/main amd64 preview-latex-style all 11.91-1ubuntu1 [185 kB]\n",
            "Get:35 http://archive.ubuntu.com/ubuntu bionic/main amd64 t1utils amd64 1.41-2 [56.0 kB]\n",
            "Get:36 http://archive.ubuntu.com/ubuntu bionic/universe amd64 tex-gyre all 20160520-1 [4,998 kB]\n",
            "Get:37 http://archive.ubuntu.com/ubuntu bionic-updates/main amd64 texlive-binaries amd64 2017.20170613.44572-8ubuntu0.1 [8,179 kB]\n",
            "Get:38 http://archive.ubuntu.com/ubuntu bionic/main amd64 texlive-base all 2017.20180305-1 [18.7 MB]\n",
            "Get:39 http://archive.ubuntu.com/ubuntu bionic/universe amd64 texlive-fonts-recommended all 2017.20180305-1 [5,262 kB]\n",
            "Get:40 http://archive.ubuntu.com/ubuntu bionic/main amd64 texlive-latex-base all 2017.20180305-1 [951 kB]\n",
            "Get:41 http://archive.ubuntu.com/ubuntu bionic/main amd64 texlive-latex-recommended all 2017.20180305-1 [14.9 MB]\n",
            "Get:42 http://archive.ubuntu.com/ubuntu bionic/universe amd64 texlive-pictures all 2017.20180305-1 [4,026 kB]\n",
            "Get:43 http://archive.ubuntu.com/ubuntu bionic/universe amd64 texlive-latex-extra all 2017.20180305-2 [10.6 MB]\n",
            "Get:44 http://archive.ubuntu.com/ubuntu bionic/universe amd64 texlive-plain-generic all 2017.20180305-2 [23.6 MB]\n",
            "Get:45 http://archive.ubuntu.com/ubuntu bionic/universe amd64 tipa all 2:1.3-20 [2,978 kB]\n",
            "Get:46 http://archive.ubuntu.com/ubuntu bionic/universe amd64 texlive-xetex all 2017.20180305-1 [10.7 MB]\n",
            "Fetched 146 MB in 8s (17.4 MB/s)\n",
            "Extracting templates from packages: 100%\n",
            "Preconfiguring packages ...\n",
            "Selecting previously unselected package fonts-droid-fallback.\n",
            "(Reading database ... 155113 files and directories currently installed.)\n",
            "Preparing to unpack .../00-fonts-droid-fallback_1%3a6.0.1r16-1.1_all.deb ...\n",
            "Unpacking fonts-droid-fallback (1:6.0.1r16-1.1) ...\n",
            "Selecting previously unselected package fonts-lato.\n",
            "Preparing to unpack .../01-fonts-lato_2.0-2_all.deb ...\n",
            "Unpacking fonts-lato (2.0-2) ...\n",
            "Selecting previously unselected package poppler-data.\n",
            "Preparing to unpack .../02-poppler-data_0.4.8-2_all.deb ...\n",
            "Unpacking poppler-data (0.4.8-2) ...\n",
            "Selecting previously unselected package tex-common.\n",
            "Preparing to unpack .../03-tex-common_6.09_all.deb ...\n",
            "Unpacking tex-common (6.09) ...\n",
            "Selecting previously unselected package fonts-lmodern.\n",
            "Preparing to unpack .../04-fonts-lmodern_2.004.5-3_all.deb ...\n",
            "Unpacking fonts-lmodern (2.004.5-3) ...\n",
            "Selecting previously unselected package fonts-noto-mono.\n",
            "Preparing to unpack .../05-fonts-noto-mono_20171026-2_all.deb ...\n",
            "Unpacking fonts-noto-mono (20171026-2) ...\n",
            "Selecting previously unselected package fonts-texgyre.\n",
            "Preparing to unpack .../06-fonts-texgyre_20160520-1_all.deb ...\n",
            "Unpacking fonts-texgyre (20160520-1) ...\n",
            "Selecting previously unselected package javascript-common.\n",
            "Preparing to unpack .../07-javascript-common_11_all.deb ...\n",
            "Unpacking javascript-common (11) ...\n",
            "Selecting previously unselected package libcupsfilters1:amd64.\n",
            "Preparing to unpack .../08-libcupsfilters1_1.20.2-0ubuntu3.1_amd64.deb ...\n",
            "Unpacking libcupsfilters1:amd64 (1.20.2-0ubuntu3.1) ...\n",
            "Selecting previously unselected package libcupsimage2:amd64.\n",
            "Preparing to unpack .../09-libcupsimage2_2.2.7-1ubuntu2.8_amd64.deb ...\n",
            "Unpacking libcupsimage2:amd64 (2.2.7-1ubuntu2.8) ...\n",
            "Selecting previously unselected package libijs-0.35:amd64.\n",
            "Preparing to unpack .../10-libijs-0.35_0.35-13_amd64.deb ...\n",
            "Unpacking libijs-0.35:amd64 (0.35-13) ...\n",
            "Selecting previously unselected package libjbig2dec0:amd64.\n",
            "Preparing to unpack .../11-libjbig2dec0_0.13-6_amd64.deb ...\n",
            "Unpacking libjbig2dec0:amd64 (0.13-6) ...\n",
            "Selecting previously unselected package libgs9-common.\n",
            "Preparing to unpack .../12-libgs9-common_9.26~dfsg+0-0ubuntu0.18.04.15_all.deb ...\n",
            "Unpacking libgs9-common (9.26~dfsg+0-0ubuntu0.18.04.15) ...\n",
            "Selecting previously unselected package libgs9:amd64.\n",
            "Preparing to unpack .../13-libgs9_9.26~dfsg+0-0ubuntu0.18.04.15_amd64.deb ...\n",
            "Unpacking libgs9:amd64 (9.26~dfsg+0-0ubuntu0.18.04.15) ...\n",
            "Selecting previously unselected package libjs-jquery.\n",
            "Preparing to unpack .../14-libjs-jquery_3.2.1-1_all.deb ...\n",
            "Unpacking libjs-jquery (3.2.1-1) ...\n",
            "Selecting previously unselected package libkpathsea6:amd64.\n",
            "Preparing to unpack .../15-libkpathsea6_2017.20170613.44572-8ubuntu0.1_amd64.deb ...\n",
            "Unpacking libkpathsea6:amd64 (2017.20170613.44572-8ubuntu0.1) ...\n",
            "Selecting previously unselected package libpotrace0.\n",
            "Preparing to unpack .../16-libpotrace0_1.14-2_amd64.deb ...\n",
            "Unpacking libpotrace0 (1.14-2) ...\n",
            "Selecting previously unselected package libptexenc1:amd64.\n",
            "Preparing to unpack .../17-libptexenc1_2017.20170613.44572-8ubuntu0.1_amd64.deb ...\n",
            "Unpacking libptexenc1:amd64 (2017.20170613.44572-8ubuntu0.1) ...\n",
            "Selecting previously unselected package rubygems-integration.\n",
            "Preparing to unpack .../18-rubygems-integration_1.11_all.deb ...\n",
            "Unpacking rubygems-integration (1.11) ...\n",
            "Selecting previously unselected package ruby2.5.\n",
            "Preparing to unpack .../19-ruby2.5_2.5.1-1ubuntu1.11_amd64.deb ...\n",
            "Unpacking ruby2.5 (2.5.1-1ubuntu1.11) ...\n",
            "Selecting previously unselected package ruby.\n",
            "Preparing to unpack .../20-ruby_1%3a2.5.1_amd64.deb ...\n",
            "Unpacking ruby (1:2.5.1) ...\n",
            "Selecting previously unselected package rake.\n",
            "Preparing to unpack .../21-rake_12.3.1-1ubuntu0.1_all.deb ...\n",
            "Unpacking rake (12.3.1-1ubuntu0.1) ...\n",
            "Selecting previously unselected package ruby-did-you-mean.\n",
            "Preparing to unpack .../22-ruby-did-you-mean_1.2.0-2_all.deb ...\n",
            "Unpacking ruby-did-you-mean (1.2.0-2) ...\n",
            "Selecting previously unselected package ruby-minitest.\n",
            "Preparing to unpack .../23-ruby-minitest_5.10.3-1_all.deb ...\n",
            "Unpacking ruby-minitest (5.10.3-1) ...\n",
            "Selecting previously unselected package ruby-net-telnet.\n",
            "Preparing to unpack .../24-ruby-net-telnet_0.1.1-2_all.deb ...\n",
            "Unpacking ruby-net-telnet (0.1.1-2) ...\n",
            "Selecting previously unselected package ruby-power-assert.\n",
            "Preparing to unpack .../25-ruby-power-assert_0.3.0-1_all.deb ...\n",
            "Unpacking ruby-power-assert (0.3.0-1) ...\n",
            "Selecting previously unselected package ruby-test-unit.\n",
            "Preparing to unpack .../26-ruby-test-unit_3.2.5-1_all.deb ...\n",
            "Unpacking ruby-test-unit (3.2.5-1) ...\n",
            "Selecting previously unselected package libruby2.5:amd64.\n",
            "Preparing to unpack .../27-libruby2.5_2.5.1-1ubuntu1.11_amd64.deb ...\n",
            "Unpacking libruby2.5:amd64 (2.5.1-1ubuntu1.11) ...\n",
            "Selecting previously unselected package libsynctex1:amd64.\n",
            "Preparing to unpack .../28-libsynctex1_2017.20170613.44572-8ubuntu0.1_amd64.deb ...\n",
            "Unpacking libsynctex1:amd64 (2017.20170613.44572-8ubuntu0.1) ...\n",
            "Selecting previously unselected package libtexlua52:amd64.\n",
            "Preparing to unpack .../29-libtexlua52_2017.20170613.44572-8ubuntu0.1_amd64.deb ...\n",
            "Unpacking libtexlua52:amd64 (2017.20170613.44572-8ubuntu0.1) ...\n",
            "Selecting previously unselected package libtexluajit2:amd64.\n",
            "Preparing to unpack .../30-libtexluajit2_2017.20170613.44572-8ubuntu0.1_amd64.deb ...\n",
            "Unpacking libtexluajit2:amd64 (2017.20170613.44572-8ubuntu0.1) ...\n",
            "Selecting previously unselected package libzzip-0-13:amd64.\n",
            "Preparing to unpack .../31-libzzip-0-13_0.13.62-3.1ubuntu0.18.04.1_amd64.deb ...\n",
            "Unpacking libzzip-0-13:amd64 (0.13.62-3.1ubuntu0.18.04.1) ...\n",
            "Selecting previously unselected package lmodern.\n",
            "Preparing to unpack .../32-lmodern_2.004.5-3_all.deb ...\n",
            "Unpacking lmodern (2.004.5-3) ...\n",
            "Selecting previously unselected package preview-latex-style.\n",
            "Preparing to unpack .../33-preview-latex-style_11.91-1ubuntu1_all.deb ...\n",
            "Unpacking preview-latex-style (11.91-1ubuntu1) ...\n",
            "Selecting previously unselected package t1utils.\n",
            "Preparing to unpack .../34-t1utils_1.41-2_amd64.deb ...\n",
            "Unpacking t1utils (1.41-2) ...\n",
            "Selecting previously unselected package tex-gyre.\n",
            "Preparing to unpack .../35-tex-gyre_20160520-1_all.deb ...\n",
            "Unpacking tex-gyre (20160520-1) ...\n",
            "Selecting previously unselected package texlive-binaries.\n",
            "Preparing to unpack .../36-texlive-binaries_2017.20170613.44572-8ubuntu0.1_amd64.deb ...\n",
            "Unpacking texlive-binaries (2017.20170613.44572-8ubuntu0.1) ...\n",
            "Selecting previously unselected package texlive-base.\n",
            "Preparing to unpack .../37-texlive-base_2017.20180305-1_all.deb ...\n",
            "Unpacking texlive-base (2017.20180305-1) ...\n",
            "Selecting previously unselected package texlive-fonts-recommended.\n",
            "Preparing to unpack .../38-texlive-fonts-recommended_2017.20180305-1_all.deb ...\n",
            "Unpacking texlive-fonts-recommended (2017.20180305-1) ...\n",
            "Selecting previously unselected package texlive-latex-base.\n",
            "Preparing to unpack .../39-texlive-latex-base_2017.20180305-1_all.deb ...\n",
            "Unpacking texlive-latex-base (2017.20180305-1) ...\n",
            "Selecting previously unselected package texlive-latex-recommended.\n",
            "Preparing to unpack .../40-texlive-latex-recommended_2017.20180305-1_all.deb ...\n",
            "Unpacking texlive-latex-recommended (2017.20180305-1) ...\n",
            "Selecting previously unselected package texlive-pictures.\n",
            "Preparing to unpack .../41-texlive-pictures_2017.20180305-1_all.deb ...\n",
            "Unpacking texlive-pictures (2017.20180305-1) ...\n",
            "Selecting previously unselected package texlive-latex-extra.\n",
            "Preparing to unpack .../42-texlive-latex-extra_2017.20180305-2_all.deb ...\n",
            "Unpacking texlive-latex-extra (2017.20180305-2) ...\n",
            "Selecting previously unselected package texlive-plain-generic.\n",
            "Preparing to unpack .../43-texlive-plain-generic_2017.20180305-2_all.deb ...\n",
            "Unpacking texlive-plain-generic (2017.20180305-2) ...\n",
            "Selecting previously unselected package tipa.\n",
            "Preparing to unpack .../44-tipa_2%3a1.3-20_all.deb ...\n",
            "Unpacking tipa (2:1.3-20) ...\n",
            "Selecting previously unselected package texlive-xetex.\n",
            "Preparing to unpack .../45-texlive-xetex_2017.20180305-1_all.deb ...\n",
            "Unpacking texlive-xetex (2017.20180305-1) ...\n",
            "Setting up libgs9-common (9.26~dfsg+0-0ubuntu0.18.04.15) ...\n",
            "Setting up libkpathsea6:amd64 (2017.20170613.44572-8ubuntu0.1) ...\n",
            "Setting up libjs-jquery (3.2.1-1) ...\n",
            "Setting up libtexlua52:amd64 (2017.20170613.44572-8ubuntu0.1) ...\n",
            "Setting up fonts-droid-fallback (1:6.0.1r16-1.1) ...\n",
            "Setting up libsynctex1:amd64 (2017.20170613.44572-8ubuntu0.1) ...\n",
            "Setting up libptexenc1:amd64 (2017.20170613.44572-8ubuntu0.1) ...\n",
            "Setting up tex-common (6.09) ...\n",
            "update-language: texlive-base not installed and configured, doing nothing!\n",
            "Setting up poppler-data (0.4.8-2) ...\n",
            "Setting up tex-gyre (20160520-1) ...\n",
            "Setting up preview-latex-style (11.91-1ubuntu1) ...\n",
            "Setting up fonts-texgyre (20160520-1) ...\n",
            "Setting up fonts-noto-mono (20171026-2) ...\n",
            "Setting up fonts-lato (2.0-2) ...\n",
            "Setting up libcupsfilters1:amd64 (1.20.2-0ubuntu3.1) ...\n",
            "Setting up libcupsimage2:amd64 (2.2.7-1ubuntu2.8) ...\n",
            "Setting up libjbig2dec0:amd64 (0.13-6) ...\n",
            "Setting up ruby-did-you-mean (1.2.0-2) ...\n",
            "Setting up t1utils (1.41-2) ...\n",
            "Setting up ruby-net-telnet (0.1.1-2) ...\n",
            "Setting up libijs-0.35:amd64 (0.35-13) ...\n",
            "Setting up rubygems-integration (1.11) ...\n",
            "Setting up libpotrace0 (1.14-2) ...\n",
            "Setting up javascript-common (11) ...\n",
            "Setting up ruby-minitest (5.10.3-1) ...\n",
            "Setting up libzzip-0-13:amd64 (0.13.62-3.1ubuntu0.18.04.1) ...\n",
            "Setting up libgs9:amd64 (9.26~dfsg+0-0ubuntu0.18.04.15) ...\n",
            "Setting up libtexluajit2:amd64 (2017.20170613.44572-8ubuntu0.1) ...\n",
            "Setting up fonts-lmodern (2.004.5-3) ...\n",
            "Setting up ruby-power-assert (0.3.0-1) ...\n",
            "Setting up texlive-binaries (2017.20170613.44572-8ubuntu0.1) ...\n",
            "update-alternatives: using /usr/bin/xdvi-xaw to provide /usr/bin/xdvi.bin (xdvi.bin) in auto mode\n",
            "update-alternatives: using /usr/bin/bibtex.original to provide /usr/bin/bibtex (bibtex) in auto mode\n",
            "Setting up texlive-base (2017.20180305-1) ...\n",
            "mktexlsr: Updating /var/lib/texmf/ls-R-TEXLIVEDIST... \n",
            "mktexlsr: Updating /var/lib/texmf/ls-R-TEXMFMAIN... \n",
            "mktexlsr: Updating /var/lib/texmf/ls-R... \n",
            "mktexlsr: Done.\n",
            "tl-paper: setting paper size for dvips to a4: /var/lib/texmf/dvips/config/config-paper.ps\n",
            "tl-paper: setting paper size for dvipdfmx to a4: /var/lib/texmf/dvipdfmx/dvipdfmx-paper.cfg\n",
            "tl-paper: setting paper size for xdvi to a4: /var/lib/texmf/xdvi/XDvi-paper\n",
            "tl-paper: setting paper size for pdftex to a4: /var/lib/texmf/tex/generic/config/pdftexconfig.tex\n",
            "Setting up texlive-fonts-recommended (2017.20180305-1) ...\n",
            "Setting up texlive-plain-generic (2017.20180305-2) ...\n",
            "Setting up texlive-latex-base (2017.20180305-1) ...\n",
            "Setting up lmodern (2.004.5-3) ...\n",
            "Setting up texlive-latex-recommended (2017.20180305-1) ...\n",
            "Setting up texlive-pictures (2017.20180305-1) ...\n",
            "Setting up tipa (2:1.3-20) ...\n",
            "Regenerating '/var/lib/texmf/fmtutil.cnf-DEBIAN'... done.\n",
            "Regenerating '/var/lib/texmf/fmtutil.cnf-TEXLIVEDIST'... done.\n",
            "update-fmtutil has updated the following file(s):\n",
            "\t/var/lib/texmf/fmtutil.cnf-DEBIAN\n",
            "\t/var/lib/texmf/fmtutil.cnf-TEXLIVEDIST\n",
            "If you want to activate the changes in the above file(s),\n",
            "you should run fmtutil-sys or fmtutil.\n",
            "Setting up texlive-latex-extra (2017.20180305-2) ...\n",
            "Setting up texlive-xetex (2017.20180305-1) ...\n",
            "Setting up ruby2.5 (2.5.1-1ubuntu1.11) ...\n",
            "Setting up ruby (1:2.5.1) ...\n",
            "Setting up ruby-test-unit (3.2.5-1) ...\n",
            "Setting up rake (12.3.1-1ubuntu0.1) ...\n",
            "Setting up libruby2.5:amd64 (2.5.1-1ubuntu1.11) ...\n",
            "Processing triggers for mime-support (3.60ubuntu1) ...\n",
            "Processing triggers for libc-bin (2.27-3ubuntu1.3) ...\n",
            "/sbin/ldconfig.real: /usr/local/lib/python3.7/dist-packages/ideep4py/lib/libmkldnn.so.0 is not a symbolic link\n",
            "\n",
            "Processing triggers for man-db (2.8.3-2ubuntu0.1) ...\n",
            "Processing triggers for fontconfig (2.12.6-0ubuntu2) ...\n",
            "Processing triggers for tex-common (6.09) ...\n",
            "Running updmap-sys. This may take some time... done.\n",
            "Running mktexlsr /var/lib/texmf ... done.\n",
            "Building format(s) --all.\n",
            "\tThis may take some time... done.\n"
          ]
        }
      ]
    },
    {
      "cell_type": "code",
      "metadata": {
        "colab": {
          "base_uri": "https://localhost:8080/"
        },
        "id": "35bXCOOkF3dP",
        "outputId": "217a706f-6422-4f78-f64f-65882cac0f97"
      },
      "source": [
        "!jupyter nbconvert --to html /content/Script_Walopez.ipynb"
      ],
      "execution_count": null,
      "outputs": [
        {
          "output_type": "stream",
          "name": "stdout",
          "text": [
            "[NbConvertApp] Converting notebook /content/Script_Walopez.ipynb to html\n",
            "[NbConvertApp] Writing 651158 bytes to /content/Script_Walopez.html\n"
          ]
        }
      ]
    },
    {
      "cell_type": "code",
      "metadata": {
        "colab": {
          "base_uri": "https://localhost:8080/"
        },
        "id": "l7e-H4o6ty_s",
        "outputId": "4584debc-03dc-47f2-caa4-244bc7c2dc17"
      },
      "source": [
        "!jupyter nbconvert --to pdf /content/Script_Walopez.ipynb"
      ],
      "execution_count": null,
      "outputs": [
        {
          "output_type": "stream",
          "name": "stdout",
          "text": [
            "[NbConvertApp] Converting notebook /content/Script_Walopez.ipynb to pdf\n",
            "[NbConvertApp] Support files will be in Script_Walopez_files/\n",
            "[NbConvertApp] Making directory ./Script_Walopez_files\n",
            "[NbConvertApp] Making directory ./Script_Walopez_files\n",
            "[NbConvertApp] Making directory ./Script_Walopez_files\n",
            "[NbConvertApp] Making directory ./Script_Walopez_files\n",
            "[NbConvertApp] Making directory ./Script_Walopez_files\n",
            "[NbConvertApp] Making directory ./Script_Walopez_files\n",
            "[NbConvertApp] Making directory ./Script_Walopez_files\n",
            "[NbConvertApp] Making directory ./Script_Walopez_files\n",
            "[NbConvertApp] Writing 88060 bytes to ./notebook.tex\n",
            "[NbConvertApp] Building PDF\n",
            "[NbConvertApp] Running xelatex 3 times: [u'xelatex', u'./notebook.tex', '-quiet']\n",
            "[NbConvertApp] Running bibtex 1 time: [u'bibtex', u'./notebook']\n",
            "[NbConvertApp] WARNING | bibtex had problems, most likely because there were no citations\n",
            "[NbConvertApp] PDF successfully created\n",
            "[NbConvertApp] Writing 248960 bytes to /content/Script_Walopez.pdf\n"
          ]
        }
      ]
    }
  ]
}